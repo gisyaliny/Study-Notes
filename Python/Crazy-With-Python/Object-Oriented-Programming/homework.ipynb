{
 "cells": [
  {
   "cell_type": "markdown",
   "metadata": {
    "toc": true
   },
   "source": [
    "<h1>Table of Contents<span class=\"tocSkip\"></span></h1>\n",
    "<div class=\"toc\"><ul class=\"toc-item\"><li><span><a href=\"#Cl-05-homework\" data-toc-modified-id=\"Cl-05-homework-1\"><span class=\"toc-item-num\">1&nbsp;&nbsp;</span>Cl-05-homework</a></span></li><li><span><a href=\"#Cl-06-homework\" data-toc-modified-id=\"Cl-06-homework-2\"><span class=\"toc-item-num\">2&nbsp;&nbsp;</span>Cl-06-homework</a></span></li><li><span><a href=\"#Ch-07-homework\" data-toc-modified-id=\"Ch-07-homework-3\"><span class=\"toc-item-num\">3&nbsp;&nbsp;</span>Ch-07-homework</a></span><ul class=\"toc-item\"><li><span><a href=\"#Descriptor-Objects\" data-toc-modified-id=\"Descriptor-Objects-3.1\"><span class=\"toc-item-num\">3.1&nbsp;&nbsp;</span>Descriptor Objects</a></span></li></ul></li></ul></div>"
   ]
  },
  {
   "cell_type": "markdown",
   "metadata": {},
   "source": [
    "## Cl-05-homework"
   ]
  },
  {
   "cell_type": "code",
   "execution_count": 1,
   "metadata": {},
   "outputs": [],
   "source": [
    "class Box:\n",
    "    init_num = 0\n",
    "    def __init__(self,length,width,height):\n",
    "        self.length = length\n",
    "        self.width = width\n",
    "        self.height = height\n",
    "        Box.init_num +=1\n",
    "    def pv(self):\n",
    "        v = self.length * self.width * self.height\n",
    "        print('Volume is ',v)"
   ]
  },
  {
   "cell_type": "code",
   "execution_count": 2,
   "metadata": {},
   "outputs": [
    {
     "name": "stdout",
     "output_type": "stream",
     "text": [
      "5\n"
     ]
    }
   ],
   "source": [
    "A = Box(1,2,3)\n",
    "B = Box(1,2,3)\n",
    "C = Box(1,2,3)\n",
    "D = Box(1,2,3)\n",
    "E = Box(1,2,3)\n",
    "print(Box.init_num)"
   ]
  },
  {
   "cell_type": "code",
   "execution_count": 3,
   "metadata": {},
   "outputs": [
    {
     "name": "stdout",
     "output_type": "stream",
     "text": [
      "Volume is  6\n"
     ]
    }
   ],
   "source": [
    "A.pv()"
   ]
  },
  {
   "cell_type": "markdown",
   "metadata": {},
   "source": [
    "## Cl-06-homework"
   ]
  },
  {
   "cell_type": "code",
   "execution_count": 4,
   "metadata": {},
   "outputs": [],
   "source": [
    "class Box:\n",
    "    \n",
    "    init_num = 0\n",
    "    \n",
    "    def __init__(self,length,width,height):\n",
    "        self.length = length\n",
    "        self.width = width\n",
    "        self.height = height\n",
    "        self.status = 'open'\n",
    "        self._color = None\n",
    "        Box.init_num +=1\n",
    "        \n",
    "    def gvolume(self):\n",
    "        self.v = self.length * self.width * self.height\n",
    "        return self.v\n",
    "    \n",
    "    def open(self):\n",
    "        if self.status == 'close':\n",
    "            self.status = 'open'\n",
    "        else:\n",
    "            print('It is already opened!')\n",
    "            \n",
    "    def close(self):\n",
    "        if self.status == 'open':\n",
    "            self.status = 'close'\n",
    "        else:\n",
    "            print('It is already closed!')\n",
    "    \n",
    "    def set_color(self,given_color):\n",
    "        self._color = given_color\n",
    "        print('change color to ', self._color)\n",
    "    def get_color(self):\n",
    "        print('Current color is ', self._color)\n",
    "        "
   ]
  },
  {
   "cell_type": "code",
   "execution_count": 5,
   "metadata": {},
   "outputs": [],
   "source": [
    "A = Box(3,4,5)"
   ]
  },
  {
   "cell_type": "code",
   "execution_count": 6,
   "metadata": {},
   "outputs": [
    {
     "data": {
      "text/plain": [
       "60"
      ]
     },
     "execution_count": 6,
     "metadata": {},
     "output_type": "execute_result"
    }
   ],
   "source": [
    "A.gvolume()"
   ]
  },
  {
   "cell_type": "code",
   "execution_count": 7,
   "metadata": {},
   "outputs": [
    {
     "name": "stdout",
     "output_type": "stream",
     "text": [
      "It is already opened!\n",
      "It is already closed!\n"
     ]
    }
   ],
   "source": [
    "A.open()\n",
    "A.close()\n",
    "A.close()"
   ]
  },
  {
   "cell_type": "code",
   "execution_count": 8,
   "metadata": {},
   "outputs": [
    {
     "name": "stdout",
     "output_type": "stream",
     "text": [
      "Current color is  None\n",
      "change color to  red\n",
      "Current color is  red\n"
     ]
    }
   ],
   "source": [
    "A.get_color()\n",
    "A.set_color('red')\n",
    "A.get_color()"
   ]
  },
  {
   "cell_type": "markdown",
   "metadata": {},
   "source": [
    "## Ch-07-homework "
   ]
  },
  {
   "cell_type": "code",
   "execution_count": 9,
   "metadata": {},
   "outputs": [],
   "source": [
    "class Num:\n",
    "    def __init__(self,val = 0):\n",
    "        self.val = val\n",
    "        \n",
    "    def __get__(self,obj,objtype):\n",
    "            return self.val\n",
    "    \n",
    "    def __set__(self,obj,val):\n",
    "        if 0 <= val and val <=6:\n",
    "            self.default = val\n",
    "        else:\n",
    "            print('set failed!')\n",
    "            \n",
    "    def __delete__(self,instance):\n",
    "        pass       \n"
   ]
  },
  {
   "cell_type": "code",
   "execution_count": 10,
   "metadata": {},
   "outputs": [],
   "source": [
    "class Box:\n",
    "    \n",
    "    init_num = 0\n",
    "    symbol = Num(5)\n",
    "    def __init__(self,length,width,height):\n",
    "        self.length = length\n",
    "        self.width = width\n",
    "        self.height = height\n",
    "        self.status = 'open'\n",
    "        self._color = None\n",
    "        Box.init_num +=1\n",
    "        \n",
    "    def gvolume(self):\n",
    "        self.v = self.length * self.width * self.height\n",
    "        return self.v\n",
    "    \n",
    "    def __call__(self):\n",
    "        print('Volume is',self.gvolume())\n",
    "    \n",
    "    def open(self):\n",
    "        if self.status == 'close':\n",
    "            self.status = 'open'\n",
    "        else:\n",
    "            print('It is already opened!')\n",
    "            \n",
    "    def close(self):\n",
    "        if self.status == 'open':\n",
    "            self.status = 'close'\n",
    "        else:\n",
    "            print('It is already closed!')\n",
    "    @property\n",
    "    def color(self):\n",
    "        return self._color\n",
    "    @color.setter\n",
    "    def color(self,color):\n",
    "        if isinstance(color,str):\n",
    "            self._color = color\n",
    "        else:\n",
    "            print('wrong input')\n",
    "        "
   ]
  },
  {
   "cell_type": "code",
   "execution_count": 11,
   "metadata": {},
   "outputs": [],
   "source": [
    "A = Box(3,4,5)"
   ]
  },
  {
   "cell_type": "code",
   "execution_count": 12,
   "metadata": {},
   "outputs": [
    {
     "name": "stdout",
     "output_type": "stream",
     "text": [
      "Volume is 60\n"
     ]
    }
   ],
   "source": [
    "A()"
   ]
  },
  {
   "cell_type": "code",
   "execution_count": 13,
   "metadata": {},
   "outputs": [
    {
     "name": "stdout",
     "output_type": "stream",
     "text": [
      "wrong input\n"
     ]
    }
   ],
   "source": [
    "A.color = 1"
   ]
  },
  {
   "cell_type": "code",
   "execution_count": 14,
   "metadata": {},
   "outputs": [
    {
     "data": {
      "text/plain": [
       "'red'"
      ]
     },
     "execution_count": 14,
     "metadata": {},
     "output_type": "execute_result"
    }
   ],
   "source": [
    "A.color = 'red'\n",
    "A.color"
   ]
  },
  {
   "cell_type": "code",
   "execution_count": 15,
   "metadata": {},
   "outputs": [
    {
     "data": {
      "text/plain": [
       "5"
      ]
     },
     "execution_count": 15,
     "metadata": {},
     "output_type": "execute_result"
    }
   ],
   "source": [
    "A.symbol"
   ]
  },
  {
   "cell_type": "code",
   "execution_count": 16,
   "metadata": {},
   "outputs": [
    {
     "name": "stdout",
     "output_type": "stream",
     "text": [
      "set failed!\n"
     ]
    }
   ],
   "source": [
    "A.symbol = 10"
   ]
  },
  {
   "cell_type": "markdown",
   "metadata": {},
   "source": [
    "### Descriptor Objects"
   ]
  },
  {
   "cell_type": "code",
   "execution_count": 17,
   "metadata": {},
   "outputs": [],
   "source": [
    "class RevealAccess:\n",
    "    \"\"\"A data descriptor that sets and returns values\n",
    "       normally and prints a message logging their access.\n",
    "    \"\"\"\n",
    "\n",
    "    def __init__(self, initval=None, name='var'):\n",
    "        self.val = initval\n",
    "        self.name = name\n",
    "\n",
    "    def __get__(self, obj, objtype):\n",
    "        print('Retrieving', self.name)\n",
    "        return self.val\n",
    "\n",
    "    def __set__(self, obj, val):\n",
    "        if 0 <= val and val <=6:\n",
    "            self.default = val\n",
    "        else:\n",
    "            print('set failed!')\n",
    "        \n",
    "class MyClass:\n",
    "    x = RevealAccess(10, 'var \"x\"')\n",
    "    y = 5"
   ]
  },
  {
   "cell_type": "code",
   "execution_count": 18,
   "metadata": {},
   "outputs": [
    {
     "name": "stdout",
     "output_type": "stream",
     "text": [
      "Retrieving var \"x\"\n"
     ]
    },
    {
     "data": {
      "text/plain": [
       "10"
      ]
     },
     "execution_count": 18,
     "metadata": {},
     "output_type": "execute_result"
    }
   ],
   "source": [
    "m = MyClass()\n",
    "m.x"
   ]
  },
  {
   "cell_type": "code",
   "execution_count": 19,
   "metadata": {},
   "outputs": [
    {
     "name": "stdout",
     "output_type": "stream",
     "text": [
      "set failed!\n"
     ]
    }
   ],
   "source": [
    "m.x = 20"
   ]
  },
  {
   "cell_type": "code",
   "execution_count": null,
   "metadata": {},
   "outputs": [],
   "source": []
  }
 ],
 "metadata": {
  "kernelspec": {
   "display_name": "Python 3",
   "language": "python",
   "name": "python3"
  },
  "language_info": {
   "codemirror_mode": {
    "name": "ipython",
    "version": 3
   },
   "file_extension": ".py",
   "mimetype": "text/x-python",
   "name": "python",
   "nbconvert_exporter": "python",
   "pygments_lexer": "ipython3",
   "version": "3.7.6"
  },
  "toc": {
   "base_numbering": 1,
   "nav_menu": {},
   "number_sections": true,
   "sideBar": true,
   "skip_h1_title": true,
   "title_cell": "Table of Contents",
   "title_sidebar": "Contents",
   "toc_cell": true,
   "toc_position": {},
   "toc_section_display": true,
   "toc_window_display": true
  }
 },
 "nbformat": 4,
 "nbformat_minor": 4
}
