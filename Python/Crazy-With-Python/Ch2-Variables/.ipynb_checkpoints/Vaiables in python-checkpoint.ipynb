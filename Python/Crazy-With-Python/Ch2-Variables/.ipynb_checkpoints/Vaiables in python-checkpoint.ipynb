{
 "cells": [
  {
   "cell_type": "markdown",
   "metadata": {},
   "source": [
    "# Vaiables in python\n",
    "Python is weakly typed language due to the following two reasons\n",
    "* All variables do not need to be stated before use\n",
    "* The type of vaiables could be changed"
   ]
  },
  {
   "cell_type": "markdown",
   "metadata": {},
   "source": [
    "## 1. Coments"
   ]
  },
  {
   "cell_type": "code",
   "execution_count": 1,
   "metadata": {},
   "outputs": [
    {
     "name": "stdout",
     "output_type": "stream",
     "text": [
      "hello World!\n"
     ]
    }
   ],
   "source": [
    "# This is a sample comments\n",
    "print(\"hello World!\")"
   ]
  },
  {
   "cell_type": "code",
   "execution_count": 2,
   "metadata": {},
   "outputs": [
    {
     "data": {
      "text/plain": [
       "'\\nThis is for multiple lines comments\\nit is really simple\\n'"
      ]
     },
     "execution_count": 2,
     "metadata": {},
     "output_type": "execute_result"
    }
   ],
   "source": [
    "'''\n",
    "This is for multiple lines comments\n",
    "it is really simple\n",
    "'''\n",
    "\n",
    "# print('this line has been commented, would not be executed')"
   ]
  },
  {
   "cell_type": "markdown",
   "metadata": {},
   "source": [
    "## 2. Variables"
   ]
  },
  {
   "cell_type": "markdown",
   "metadata": {},
   "source": [
    "### 2.1 Weakly typed Language"
   ]
  },
  {
   "cell_type": "code",
   "execution_count": 3,
   "metadata": {},
   "outputs": [
    {
     "data": {
      "text/plain": [
       "5"
      ]
     },
     "execution_count": 3,
     "metadata": {},
     "output_type": "execute_result"
    }
   ],
   "source": [
    "a = 5\n",
    "a"
   ]
  },
  {
   "cell_type": "code",
   "execution_count": 4,
   "metadata": {},
   "outputs": [
    {
     "data": {
      "text/plain": [
       "'Hello,Charlie'"
      ]
     },
     "execution_count": 4,
     "metadata": {},
     "output_type": "execute_result"
    }
   ],
   "source": [
    "a = 'Hello,Charlie'\n",
    "a"
   ]
  },
  {
   "cell_type": "code",
   "execution_count": 5,
   "metadata": {},
   "outputs": [
    {
     "data": {
      "text/plain": [
       "str"
      ]
     },
     "execution_count": 5,
     "metadata": {},
     "output_type": "execute_result"
    }
   ],
   "source": [
    "type(a)"
   ]
  },
  {
   "cell_type": "markdown",
   "metadata": {},
   "source": [
    "### 2.2 Using `print()` to print the output"
   ]
  },
  {
   "cell_type": "code",
   "execution_count": 6,
   "metadata": {},
   "outputs": [
    {
     "name": "stdout",
     "output_type": "stream",
     "text": [
      "Reader name: Charlie Age: 8\n"
     ]
    }
   ],
   "source": [
    "user_name = 'Charlie'\n",
    "user_age = 8\n",
    "print(\"Reader name:\",user_name, \"Age:\",user_age)"
   ]
  },
  {
   "cell_type": "markdown",
   "metadata": {},
   "source": [
    "**Using the given characters as the delimiter**"
   ]
  },
  {
   "cell_type": "code",
   "execution_count": 7,
   "metadata": {},
   "outputs": [
    {
     "name": "stdout",
     "output_type": "stream",
     "text": [
      "Reader name:|Charlie|Age:|8\n"
     ]
    }
   ],
   "source": [
    "print(\"Reader name:\",user_name, \"Age:\",user_age,sep= '|')"
   ]
  },
  {
   "cell_type": "markdown",
   "metadata": {},
   "source": [
    "**Setting the end parameter**"
   ]
  },
  {
   "cell_type": "code",
   "execution_count": 8,
   "metadata": {},
   "outputs": [
    {
     "name": "stdout",
     "output_type": "stream",
     "text": [
      "40 \t50 \t"
     ]
    }
   ],
   "source": [
    "print(40,'\\t',end = '')\n",
    "print(50,'\\t',end = '')"
   ]
  },
  {
   "cell_type": "markdown",
   "metadata": {},
   "source": [
    "**Print the output into a file**"
   ]
  },
  {
   "cell_type": "code",
   "execution_count": 9,
   "metadata": {},
   "outputs": [],
   "source": [
    "f = open('poem.txt',\"w\") \n",
    "print('In the end she just wanted the house',file = f)\n",
    "print('and a horse not much more what',file = f)\n",
    "print('if  he didn’t own the house or worse',file = f)\n",
    "print('not even a horse how do we',file = f)\n",
    "f.close()"
   ]
  },
  {
   "cell_type": "markdown",
   "metadata": {},
   "source": [
    "### 2.3 The naming rule for variables\n",
    "* It could contain numbers, letters, underline. but not start with numbers.\n",
    "* Could not contain space\n",
    "* Could not be reserved characters of python, such as False"
   ]
  },
  {
   "cell_type": "markdown",
   "metadata": {},
   "source": [
    "## 3. Numeric Type"
   ]
  },
  {
   "cell_type": "markdown",
   "metadata": {},
   "source": [
    "### 3.1 int type\n",
    "The int type variables in python have four forms\n",
    "* Decimal Number\n",
    "* Binary Number: Start with `'0b'` or `'0B'`\n",
    "* Octal Number: Start with `'0o'` or `'0O'`\n",
    "* Hex Number: Start with `'0x'` or `'0X'`, and use `a~f` to represent 10-15"
   ]
  },
  {
   "cell_type": "code",
   "execution_count": 10,
   "metadata": {},
   "outputs": [
    {
     "name": "stdout",
     "output_type": "stream",
     "text": [
      "56\n",
      "9999999999999999999999\n",
      "<class 'int'>\n"
     ]
    }
   ],
   "source": [
    "a = 56\n",
    "print(a)\n",
    "# set a as a very large number\n",
    "a = 9999999999999999999999\n",
    "print(a)\n",
    "print(type(a))"
   ]
  },
  {
   "cell_type": "code",
   "execution_count": 11,
   "metadata": {},
   "outputs": [
    {
     "name": "stdout",
     "output_type": "stream",
     "text": [
      "Binary Number: 7\n",
      "Hex Number: 19\n",
      "Octal Number: 44\n"
     ]
    }
   ],
   "source": [
    "hex_value1 = 0x13\n",
    "bin_val = 0b111\n",
    "oct_val = 0o54\n",
    "print('Binary Number:',bin_val)\n",
    "print('Hex Number:',hex_value1)\n",
    "print('Octal Number:',oct_val)"
   ]
  },
  {
   "cell_type": "code",
   "execution_count": 12,
   "metadata": {},
   "outputs": [
    {
     "name": "stdout",
     "output_type": "stream",
     "text": [
      "1000000\n"
     ]
    }
   ],
   "source": [
    "one_million = 1_000_000\n",
    "print(one_million)"
   ]
  },
  {
   "cell_type": "markdown",
   "metadata": {},
   "source": [
    "### 3.2 Float type"
   ]
  },
  {
   "cell_type": "code",
   "execution_count": 13,
   "metadata": {},
   "outputs": [
    {
     "name": "stdout",
     "output_type": "stream",
     "text": [
      "5.234556\n",
      "25.2345\n",
      "<class 'float'>\n"
     ]
    }
   ],
   "source": [
    "af1 = 5.234556\n",
    "print(af1)\n",
    "af2 = 25.2345\n",
    "print(af2)\n",
    "print(type(af2))"
   ]
  },
  {
   "cell_type": "code",
   "execution_count": 14,
   "metadata": {},
   "outputs": [
    {
     "name": "stdout",
     "output_type": "stream",
     "text": [
      "f1: 512.0 Type: <class 'float'>\n",
      "f2: 5000.0 Type: <class 'float'>\n"
     ]
    }
   ],
   "source": [
    "f1 = 5.12e2\n",
    "f2 = 5e3\n",
    "print('f1:',f1,'Type:',type(f1))\n",
    "print('f2:',f2,'Type:',type(f2))"
   ]
  },
  {
   "cell_type": "markdown",
   "metadata": {},
   "source": [
    "## 4. String "
   ]
  },
  {
   "cell_type": "markdown",
   "metadata": {},
   "source": [
    "### 4.1 String and Escape character"
   ]
  },
  {
   "cell_type": "code",
   "execution_count": 15,
   "metadata": {},
   "outputs": [
    {
     "name": "stdout",
     "output_type": "stream",
     "text": [
      "Charlie GIS\n"
     ]
    }
   ],
   "source": [
    "str1 = 'Charlie'\n",
    "str2 = 'GIS'\n",
    "print(str1,str2)"
   ]
  },
  {
   "cell_type": "code",
   "execution_count": 16,
   "metadata": {},
   "outputs": [
    {
     "name": "stdout",
     "output_type": "stream",
     "text": [
      "I'm a coder\n",
      "\"Spring is here, let us jam\",said woodchunk\n",
      "\"We are scared, let's hide inthe shade\", says the bird\n"
     ]
    }
   ],
   "source": [
    "str3 = \"I'm a coder\"\n",
    "str4 = '\"Spring is here, let us jam\",said woodchunk'\n",
    "str5 = '\"We are scared, let\\'s hide inthe shade\", says the bird'\n",
    "print(str3)\n",
    "print(str4)\n",
    "print(str5)"
   ]
  },
  {
   "cell_type": "markdown",
   "metadata": {},
   "source": [
    "**If you type 2 strings close with each other, python would merge them automatically**"
   ]
  },
  {
   "cell_type": "code",
   "execution_count": 17,
   "metadata": {},
   "outputs": [
    {
     "name": "stdout",
     "output_type": "stream",
     "text": [
      "Hello,Charlie\n"
     ]
    }
   ],
   "source": [
    "s1 = \"Hello,\" 'Charlie'\n",
    "print(s1)"
   ]
  },
  {
   "cell_type": "code",
   "execution_count": 18,
   "metadata": {},
   "outputs": [
    {
     "name": "stdout",
     "output_type": "stream",
     "text": [
      "Python is funny\n"
     ]
    }
   ],
   "source": [
    "s2 = \"Python \"\n",
    "s3 = \"is funny\"\n",
    "s4 = s2 + s3\n",
    "print(s4)"
   ]
  },
  {
   "cell_type": "markdown",
   "metadata": {},
   "source": [
    "### 4.2 `repr()` and `str()`\n",
    "Python does not allow us to combine numeric type with strings, for doing that, we should use `repr()` or `str()` to transfer numeric to string."
   ]
  },
  {
   "cell_type": "code",
   "execution_count": 19,
   "metadata": {},
   "outputs": [
    {
     "ename": "TypeError",
     "evalue": "can only concatenate str (not \"float\") to str",
     "output_type": "error",
     "traceback": [
      "\u001b[1;31m---------------------------------------------------------------------------\u001b[0m",
      "\u001b[1;31mTypeError\u001b[0m                                 Traceback (most recent call last)",
      "\u001b[1;32m<ipython-input-19-f15a88801376>\u001b[0m in \u001b[0;36m<module>\u001b[1;34m\u001b[0m\n\u001b[0;32m      2\u001b[0m \u001b[0mp\u001b[0m \u001b[1;33m=\u001b[0m \u001b[1;36m99.8\u001b[0m\u001b[1;33m\u001b[0m\u001b[1;33m\u001b[0m\u001b[0m\n\u001b[0;32m      3\u001b[0m \u001b[1;31m# Could not work\u001b[0m\u001b[1;33m\u001b[0m\u001b[1;33m\u001b[0m\u001b[1;33m\u001b[0m\u001b[0m\n\u001b[1;32m----> 4\u001b[1;33m \u001b[0mprint\u001b[0m\u001b[1;33m(\u001b[0m\u001b[0ms1\u001b[0m \u001b[1;33m+\u001b[0m \u001b[0mp\u001b[0m\u001b[1;33m)\u001b[0m\u001b[1;33m\u001b[0m\u001b[1;33m\u001b[0m\u001b[0m\n\u001b[0m",
      "\u001b[1;31mTypeError\u001b[0m: can only concatenate str (not \"float\") to str"
     ]
    }
   ],
   "source": [
    "s1 = 'The price of this book is:'\n",
    "p = 99.8\n",
    "# Could not work\n",
    "print(s1 + p)"
   ]
  },
  {
   "cell_type": "code",
   "execution_count": 20,
   "metadata": {},
   "outputs": [
    {
     "name": "stdout",
     "output_type": "stream",
     "text": [
      "The price of this book is:99.8\n"
     ]
    }
   ],
   "source": [
    "print(s1 + str(p))"
   ]
  },
  {
   "cell_type": "code",
   "execution_count": 21,
   "metadata": {},
   "outputs": [
    {
     "name": "stdout",
     "output_type": "stream",
     "text": [
      "The price of this book is:99.8\n"
     ]
    }
   ],
   "source": [
    "print(s1 + repr(p))"
   ]
  },
  {
   "cell_type": "markdown",
   "metadata": {},
   "source": [
    "**`repr` would also transfer strings to a expression**"
   ]
  },
  {
   "cell_type": "code",
   "execution_count": 22,
   "metadata": {},
   "outputs": [
    {
     "name": "stdout",
     "output_type": "stream",
     "text": [
      "I love python\n",
      "'I love python'\n"
     ]
    }
   ],
   "source": [
    "st = 'I love python'\n",
    "print(st)\n",
    "print(repr(st))"
   ]
  },
  {
   "cell_type": "markdown",
   "metadata": {},
   "source": [
    "### 4.4 `Input` & `raw_input` [raw_input only work for python 2.x]"
   ]
  },
  {
   "cell_type": "code",
   "execution_count": 23,
   "metadata": {},
   "outputs": [
    {
     "name": "stdout",
     "output_type": "stream",
     "text": [
      "Please input the message: \n",
      "<class 'str'>\n",
      "\n"
     ]
    }
   ],
   "source": [
    "msg = input('Please input the message: ')\n",
    "print(type(msg))\n",
    "print(msg)"
   ]
  },
  {
   "cell_type": "code",
   "execution_count": 24,
   "metadata": {},
   "outputs": [
    {
     "name": "stdout",
     "output_type": "stream",
     "text": [
      "Please input the message: \n",
      "<class 'str'>\n",
      "\n"
     ]
    }
   ],
   "source": [
    "msg = input('Please input the message: ')\n",
    "print(type(msg))\n",
    "print(msg)"
   ]
  },
  {
   "cell_type": "markdown",
   "metadata": {},
   "source": [
    "### 4.5 Long String"
   ]
  },
  {
   "cell_type": "code",
   "execution_count": 25,
   "metadata": {},
   "outputs": [
    {
     "name": "stdout",
     "output_type": "stream",
     "text": [
      "\"Let's go fishing \",said Mary.\n",
      "\"OK, Let's go\",said her brother.\n",
      "they walked to a lake\n"
     ]
    }
   ],
   "source": [
    "s = '''\"Let's go fishing \",said Mary.\n",
    "\"OK, Let's go\",said her brother.\n",
    "they walked to a lake'''\n",
    "print(s)"
   ]
  },
  {
   "cell_type": "code",
   "execution_count": 26,
   "metadata": {},
   "outputs": [
    {
     "name": "stdout",
     "output_type": "stream",
     "text": [
      "The quick brown fox jumps over the lazy dog\n"
     ]
    }
   ],
   "source": [
    "s2 = 'The quick brown fox \\\n",
    "jumps over the lazy dog'\n",
    "print(s2)"
   ]
  },
  {
   "cell_type": "code",
   "execution_count": 27,
   "metadata": {},
   "outputs": [
    {
     "name": "stdout",
     "output_type": "stream",
     "text": [
      "26.75\n"
     ]
    }
   ],
   "source": [
    "num = 20 + 3 / 4 + \\\n",
    "    2 * 3\n",
    "print(num)"
   ]
  },
  {
   "cell_type": "markdown",
   "metadata": {},
   "source": [
    "### 4.6 Raw String\n",
    "**Raw string start with \"r\", within this string, \"\\\" could not be treated as escape characters.**"
   ]
  },
  {
   "cell_type": "code",
   "execution_count": 28,
   "metadata": {},
   "outputs": [
    {
     "name": "stdout",
     "output_type": "stream",
     "text": [
      "G:\\publish\\codes\\02\\2.4\n"
     ]
    }
   ],
   "source": [
    "s1 = r'G:\\publish\\codes\\02\\2.4'\n",
    "print(s1)"
   ]
  },
  {
   "cell_type": "code",
   "execution_count": 29,
   "metadata": {},
   "outputs": [
    {
     "name": "stdout",
     "output_type": "stream",
     "text": [
      "\"Let\\'s go\", said Charlie\n"
     ]
    }
   ],
   "source": [
    "s2 = r'\"Let\\'s go\", said Charlie'\n",
    "print(s2)"
   ]
  },
  {
   "cell_type": "code",
   "execution_count": 30,
   "metadata": {},
   "outputs": [
    {
     "name": "stdout",
     "output_type": "stream",
     "text": [
      "Good Morning\\\n"
     ]
    }
   ],
   "source": [
    "s3 = r'Good Morning' '\\\\'\n",
    "print(s3)"
   ]
  },
  {
   "cell_type": "markdown",
   "metadata": {},
   "source": [
    "### 4.7 bytes\n",
    "bytes only store binary data, so it could be utilized to store and transfer files, such as images and musics."
   ]
  },
  {
   "cell_type": "code",
   "execution_count": 31,
   "metadata": {},
   "outputs": [
    {
     "name": "stdout",
     "output_type": "stream",
     "text": [
      "b'hello'\n",
      "104\n",
      "b'll'\n"
     ]
    }
   ],
   "source": [
    "# Create a empty bytes\n",
    "b1 = bytes()\n",
    "# Create a bytes with empty value\n",
    "b2 = b''\n",
    "b3 = b'hello'\n",
    "print(b3)\n",
    "print(b3[0])\n",
    "print(b3[2:4])"
   ]
  },
  {
   "cell_type": "markdown",
   "metadata": {},
   "source": [
    "**Convert string into bytes**"
   ]
  },
  {
   "cell_type": "code",
   "execution_count": 32,
   "metadata": {},
   "outputs": [
    {
     "name": "stdout",
     "output_type": "stream",
     "text": [
      "b'I love Python Programming'\n"
     ]
    }
   ],
   "source": [
    "b4 = bytes('I love Python Programming', encoding='utf-8')\n",
    "print(b4)"
   ]
  },
  {
   "cell_type": "code",
   "execution_count": 33,
   "metadata": {
    "scrolled": true
   },
   "outputs": [
    {
     "name": "stdout",
     "output_type": "stream",
     "text": [
      "b'Python is funny'\n"
     ]
    }
   ],
   "source": [
    "b5 = 'Python is funny'.encode('utf-8')\n",
    "print(b5)"
   ]
  }
 ],
 "metadata": {
  "kernelspec": {
   "display_name": "TensorFlow(GPU)",
   "language": "python",
   "name": "tf-gpu"
  },
  "language_info": {
   "codemirror_mode": {
    "name": "ipython",
    "version": 3
   },
   "file_extension": ".py",
   "mimetype": "text/x-python",
   "name": "python",
   "nbconvert_exporter": "python",
   "pygments_lexer": "ipython3",
   "version": "3.7.6"
  }
 },
 "nbformat": 4,
 "nbformat_minor": 4
}
