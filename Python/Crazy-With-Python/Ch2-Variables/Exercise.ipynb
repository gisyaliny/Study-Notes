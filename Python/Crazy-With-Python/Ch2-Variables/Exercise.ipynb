{
 "cells": [
  {
   "cell_type": "code",
   "execution_count": 6,
   "metadata": {},
   "outputs": [
    {
     "name": "stdout",
     "output_type": "stream",
     "text": [
      "Give a stringabcdcdc\n",
      "target stringcdc\n",
      "2\n"
     ]
    }
   ],
   "source": [
    "string,sub_string = input('Give a string'),input('target string')\n",
    "ct = 0\n",
    "for i in range(len(string)):\n",
    "    if string[i:i+len(sub_string)] == sub_string:\n",
    "        ct+=1\n",
    "print(ct)"
   ]
  },
  {
   "cell_type": "code",
   "execution_count": 9,
   "metadata": {},
   "outputs": [
    {
     "name": "stdout",
     "output_type": "stream",
     "text": [
      "Give a number: 12\n",
      "Hex:  0xc\n",
      "Binary:  0b1100\n",
      "Oct:  0o14\n"
     ]
    }
   ],
   "source": [
    "num = int(input('Give a number: '))\n",
    "print('Hex: ',hex(num))\n",
    "print('Binary: ',bin(num))\n",
    "print('Oct: ',oct(num))"
   ]
  },
  {
   "cell_type": "code",
   "execution_count": null,
   "metadata": {},
   "outputs": [],
   "source": []
  }
 ],
 "metadata": {
  "kernelspec": {
   "display_name": "TensorFlow(GPU)",
   "language": "python",
   "name": "tf-gpu"
  },
  "language_info": {
   "codemirror_mode": {
    "name": "ipython",
    "version": 3
   },
   "file_extension": ".py",
   "mimetype": "text/x-python",
   "name": "python",
   "nbconvert_exporter": "python",
   "pygments_lexer": "ipython3",
   "version": "3.7.6"
  }
 },
 "nbformat": 4,
 "nbformat_minor": 4
}
