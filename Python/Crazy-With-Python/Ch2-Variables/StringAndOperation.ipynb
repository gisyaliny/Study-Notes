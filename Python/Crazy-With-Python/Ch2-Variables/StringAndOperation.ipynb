{
 "cells": [
  {
   "cell_type": "markdown",
   "metadata": {},
   "source": [
    "# String and Operation"
   ]
  },
  {
   "cell_type": "markdown",
   "metadata": {},
   "source": [
    "## 5. Application of String"
   ]
  },
  {
   "cell_type": "markdown",
   "metadata": {},
   "source": [
    "### 5.1 Escape Characters"
   ]
  },
  {
   "cell_type": "code",
   "execution_count": 1,
   "metadata": {},
   "outputs": [
    {
     "name": "stdout",
     "output_type": "stream",
     "text": [
      "Hello\n",
      "Charlie\n",
      "Good\n",
      "Morning\n"
     ]
    }
   ],
   "source": [
    "s = 'Hello\\nCharlie\\nGood\\nMorning'\n",
    "print(s)"
   ]
  },
  {
   "cell_type": "code",
   "execution_count": 2,
   "metadata": {},
   "outputs": [
    {
     "name": "stdout",
     "output_type": "stream",
     "text": [
      "Product\t\tPrice\t\tNumber\t\tTotal\n",
      "Crazy Python\t108\t\t2\t\t216\n"
     ]
    }
   ],
   "source": [
    "s2 = 'Product\\t\\tPrice\\t\\tNumber\\t\\tTotal'\n",
    "s3 = 'Crazy Python\\t108\\t\\t2\\t\\t216'\n",
    "print(s2)\n",
    "print(s3)"
   ]
  },
  {
   "cell_type": "markdown",
   "metadata": {},
   "source": [
    "### 5.2 String Formatting\n",
    "`\"%s\"`called conversion specifier, it would automatically use `str()` to the following variables"
   ]
  },
  {
   "cell_type": "code",
   "execution_count": 3,
   "metadata": {},
   "outputs": [
    {
     "name": "stdout",
     "output_type": "stream",
     "text": [
      "The book's price is 108\n"
     ]
    }
   ],
   "source": [
    "price = 108\n",
    "print(\"The book's price is %s\" %price)"
   ]
  },
  {
   "cell_type": "code",
   "execution_count": 4,
   "metadata": {},
   "outputs": [
    {
     "name": "stdout",
     "output_type": "stream",
     "text": [
      "Charlie is a 8 years old boy\n"
     ]
    }
   ],
   "source": [
    "user = 'Charlie'\n",
    "age = 8\n",
    "print(\"%s is a %s years old boy\" %(user,age))"
   ]
  },
  {
   "cell_type": "code",
   "execution_count": 5,
   "metadata": {},
   "outputs": [
    {
     "name": "stdout",
     "output_type": "stream",
     "text": [
      "num is:    -28\n",
      "num is:    -28\n",
      "num is:    -34\n",
      "num is:    -1c\n",
      "num is:    -1C\n",
      "num is:    -28\n"
     ]
    }
   ],
   "source": [
    "num = -28\n",
    "print(\"num is: %6i\" %num)\n",
    "print(\"num is: %6d\" %num)\n",
    "print(\"num is: %6o\" %num)\n",
    "print(\"num is: %6x\" %num)\n",
    "print(\"num is: %6X\" %num)\n",
    "print(\"num is: %6s\" %num)"
   ]
  },
  {
   "cell_type": "markdown",
   "metadata": {},
   "source": [
    "**Using different character to represent different format**\n",
    "* -: align to the left side\n",
    "* +: Keep the positive or negative symbol\n",
    "* 0: replace space as '0'"
   ]
  },
  {
   "cell_type": "code",
   "execution_count": 6,
   "metadata": {},
   "outputs": [
    {
     "name": "stdout",
     "output_type": "stream",
     "text": [
      "num is: 000030\n",
      "num is: +00030\n",
      "num is: 30    \n"
     ]
    }
   ],
   "source": [
    "num = 30\n",
    "print(\"num is: %06d\" % num)\n",
    "print(\"num is: %+06d\" % num)\n",
    "print(\"num is: %-06d\" % num)"
   ]
  },
  {
   "cell_type": "markdown",
   "metadata": {},
   "source": [
    "**For float type, you could also decide how many decimals to keep**"
   ]
  },
  {
   "cell_type": "code",
   "execution_count": 7,
   "metadata": {},
   "outputs": [
    {
     "name": "stdout",
     "output_type": "stream",
     "text": [
      "my_value is:    3.001\n"
     ]
    }
   ],
   "source": [
    "my_value = 3.001415926535\n",
    "# keep 3 decimals\n",
    "print(\"my_value is: %8.3f\" %my_value)"
   ]
  },
  {
   "cell_type": "code",
   "execution_count": 8,
   "metadata": {},
   "outputs": [
    {
     "name": "stdout",
     "output_type": "stream",
     "text": [
      "my_value is: 0003.001\n"
     ]
    }
   ],
   "source": [
    "print(\"my_value is: %08.3f\" %my_value)"
   ]
  },
  {
   "cell_type": "code",
   "execution_count": 9,
   "metadata": {},
   "outputs": [
    {
     "name": "stdout",
     "output_type": "stream",
     "text": [
      "my_value is: +003.001\n"
     ]
    }
   ],
   "source": [
    "print(\"my_value is: %+08.3f\" %my_value)"
   ]
  },
  {
   "cell_type": "code",
   "execution_count": 10,
   "metadata": {},
   "outputs": [
    {
     "name": "stdout",
     "output_type": "stream",
     "text": [
      "my_value is: 3.001\n"
     ]
    }
   ],
   "source": [
    "print(\"my_value is: %.3f\" %my_value)"
   ]
  },
  {
   "cell_type": "code",
   "execution_count": 11,
   "metadata": {},
   "outputs": [
    {
     "name": "stdout",
     "output_type": "stream",
     "text": [
      "my_value is:       3.00\n"
     ]
    }
   ],
   "source": [
    "print(\"my_value is: %10.2f\" %my_value)"
   ]
  },
  {
   "cell_type": "markdown",
   "metadata": {},
   "source": [
    "### 5.3 Sequence and String"
   ]
  },
  {
   "cell_type": "code",
   "execution_count": 12,
   "metadata": {},
   "outputs": [
    {
     "name": "stdout",
     "output_type": "stream",
     "text": [
      "a\n",
      "g\n"
     ]
    }
   ],
   "source": [
    "s = 'crazyit.org is very good'\n",
    "print(s[2])\n",
    "print(s[-4])"
   ]
  },
  {
   "cell_type": "code",
   "execution_count": 13,
   "metadata": {},
   "outputs": [
    {
     "name": "stdout",
     "output_type": "stream",
     "text": [
      "zy\n"
     ]
    }
   ],
   "source": [
    "print(s[3:5])"
   ]
  },
  {
   "cell_type": "code",
   "execution_count": 14,
   "metadata": {},
   "outputs": [
    {
     "name": "stdout",
     "output_type": "stream",
     "text": [
      "zyit.org is very\n"
     ]
    }
   ],
   "source": [
    "print(s[3:-5])"
   ]
  },
  {
   "cell_type": "code",
   "execution_count": 15,
   "metadata": {},
   "outputs": [
    {
     "name": "stdout",
     "output_type": "stream",
     "text": [
      "y g\n"
     ]
    }
   ],
   "source": [
    "print(s[-6:-3])"
   ]
  },
  {
   "cell_type": "markdown",
   "metadata": {},
   "source": [
    "**Could also use `in` to determine if a substring is included**"
   ]
  },
  {
   "cell_type": "code",
   "execution_count": 16,
   "metadata": {},
   "outputs": [
    {
     "name": "stdout",
     "output_type": "stream",
     "text": [
      "True\n",
      "False\n"
     ]
    }
   ],
   "source": [
    "print('very' in s)\n",
    "print('fkit' in s)"
   ]
  },
  {
   "cell_type": "code",
   "execution_count": 17,
   "metadata": {},
   "outputs": [
    {
     "name": "stdout",
     "output_type": "stream",
     "text": [
      "24\n",
      "4\n"
     ]
    }
   ],
   "source": [
    "print(len(s))\n",
    "print(len('test'))"
   ]
  },
  {
   "cell_type": "markdown",
   "metadata": {},
   "source": [
    "### 5.4 Capitalize and Lowercase\n",
    "* use `dir()` to list all content under one module\n",
    "* use `help()` to get the docstring for one function"
   ]
  },
  {
   "cell_type": "code",
   "execution_count": 18,
   "metadata": {},
   "outputs": [
    {
     "data": {
      "text/plain": [
       "['__add__',\n",
       " '__class__',\n",
       " '__contains__',\n",
       " '__delattr__',\n",
       " '__dir__',\n",
       " '__doc__',\n",
       " '__eq__',\n",
       " '__format__',\n",
       " '__ge__',\n",
       " '__getattribute__',\n",
       " '__getitem__',\n",
       " '__getnewargs__',\n",
       " '__gt__',\n",
       " '__hash__',\n",
       " '__init__',\n",
       " '__init_subclass__',\n",
       " '__iter__',\n",
       " '__le__',\n",
       " '__len__',\n",
       " '__lt__',\n",
       " '__mod__',\n",
       " '__mul__',\n",
       " '__ne__',\n",
       " '__new__',\n",
       " '__reduce__',\n",
       " '__reduce_ex__',\n",
       " '__repr__',\n",
       " '__rmod__',\n",
       " '__rmul__',\n",
       " '__setattr__',\n",
       " '__sizeof__',\n",
       " '__str__',\n",
       " '__subclasshook__',\n",
       " 'capitalize',\n",
       " 'casefold',\n",
       " 'center',\n",
       " 'count',\n",
       " 'encode',\n",
       " 'endswith',\n",
       " 'expandtabs',\n",
       " 'find',\n",
       " 'format',\n",
       " 'format_map',\n",
       " 'index',\n",
       " 'isalnum',\n",
       " 'isalpha',\n",
       " 'isascii',\n",
       " 'isdecimal',\n",
       " 'isdigit',\n",
       " 'isidentifier',\n",
       " 'islower',\n",
       " 'isnumeric',\n",
       " 'isprintable',\n",
       " 'isspace',\n",
       " 'istitle',\n",
       " 'isupper',\n",
       " 'join',\n",
       " 'ljust',\n",
       " 'lower',\n",
       " 'lstrip',\n",
       " 'maketrans',\n",
       " 'partition',\n",
       " 'replace',\n",
       " 'rfind',\n",
       " 'rindex',\n",
       " 'rjust',\n",
       " 'rpartition',\n",
       " 'rsplit',\n",
       " 'rstrip',\n",
       " 'split',\n",
       " 'splitlines',\n",
       " 'startswith',\n",
       " 'strip',\n",
       " 'swapcase',\n",
       " 'title',\n",
       " 'translate',\n",
       " 'upper',\n",
       " 'zfill']"
      ]
     },
     "execution_count": 18,
     "metadata": {},
     "output_type": "execute_result"
    }
   ],
   "source": [
    "dir(str)"
   ]
  },
  {
   "cell_type": "code",
   "execution_count": 19,
   "metadata": {},
   "outputs": [
    {
     "name": "stdout",
     "output_type": "stream",
     "text": [
      "Help on method_descriptor:\n",
      "\n",
      "title(self, /)\n",
      "    Return a version of the string where each word is titlecased.\n",
      "    \n",
      "    More specifically, words start with uppercased characters and all remaining\n",
      "    cased characters have lower case.\n",
      "\n"
     ]
    }
   ],
   "source": [
    "help(str.title)"
   ]
  },
  {
   "cell_type": "code",
   "execution_count": 20,
   "metadata": {},
   "outputs": [
    {
     "name": "stdout",
     "output_type": "stream",
     "text": [
      "Help on method_descriptor:\n",
      "\n",
      "lower(self, /)\n",
      "    Return a copy of the string converted to lowercase.\n",
      "\n"
     ]
    }
   ],
   "source": [
    "help(str.lower)"
   ]
  },
  {
   "cell_type": "code",
   "execution_count": 21,
   "metadata": {},
   "outputs": [
    {
     "name": "stdout",
     "output_type": "stream",
     "text": [
      "Help on method_descriptor:\n",
      "\n",
      "upper(self, /)\n",
      "    Return a copy of the string converted to uppercase.\n",
      "\n"
     ]
    }
   ],
   "source": [
    "help(str.upper)"
   ]
  },
  {
   "cell_type": "code",
   "execution_count": 22,
   "metadata": {},
   "outputs": [
    {
     "name": "stdout",
     "output_type": "stream",
     "text": [
      "Our Domain Is Crazyit.Org\n",
      "our domain is crazyit.org\n",
      "OUR DOMAIN IS CRAZYIT.ORG\n"
     ]
    }
   ],
   "source": [
    "a = 'our domain is crazyit.org'\n",
    "print(a.title())\n",
    "print(a.lower())\n",
    "print(a.upper())"
   ]
  },
  {
   "cell_type": "markdown",
   "metadata": {},
   "source": [
    "### 5.5 Delete Space\n",
    "* `strip()`: Return a copy of the string with leading and trailing whitespace removed.\n",
    "* `lstrip()`: Return a copy of the string with leading(left side) whitespace removed.\n",
    "* `rstrip()`: Return a copy of the string with trailing(right side) whitespace removed."
   ]
  },
  {
   "cell_type": "code",
   "execution_count": 23,
   "metadata": {},
   "outputs": [
    {
     "name": "stdout",
     "output_type": "stream",
     "text": [
      "this is a puppy   \n",
      "  this is a puppy\n",
      "this is a puppy\n"
     ]
    }
   ],
   "source": [
    "s = '  this is a puppy   '\n",
    "print(s.lstrip())\n",
    "print(s.rstrip())\n",
    "print(s.strip())"
   ]
  },
  {
   "cell_type": "markdown",
   "metadata": {},
   "source": [
    "### 5.6 Search and Replace \n",
    "* `startswith`:  Return True if S starts with the specified prefix, False otherwise.\n",
    "* `endswith`: Return True if S ends with the specified suffix, False otherwise.\n",
    "* `find`: Return the lowest index in S where substring sub is found. Return -1 on failure.\n",
    "* `index`: Return the lowest index in S where substring sub is found, Raises ValueError when the substring is not found.\n",
    "* `replace`:  Return a copy with all occurrences of substring old replaced by new.\n",
    "* `translate`:  Replace each character in the string using the given translation table."
   ]
  },
  {
   "cell_type": "code",
   "execution_count": 24,
   "metadata": {},
   "outputs": [
    {
     "name": "stdout",
     "output_type": "stream",
     "text": [
      "True\n"
     ]
    }
   ],
   "source": [
    "s = 'crazyit . org is a good site' \n",
    "print(s.startswith('crazyit'))"
   ]
  },
  {
   "cell_type": "code",
   "execution_count": 25,
   "metadata": {},
   "outputs": [
    {
     "name": "stdout",
     "output_type": "stream",
     "text": [
      "True\n"
     ]
    }
   ],
   "source": [
    "print(s.endswith('site'))"
   ]
  },
  {
   "cell_type": "code",
   "execution_count": 26,
   "metadata": {},
   "outputs": [
    {
     "name": "stdout",
     "output_type": "stream",
     "text": [
      "10\n"
     ]
    }
   ],
   "source": [
    "print(s.find('org'))"
   ]
  },
  {
   "cell_type": "code",
   "execution_count": 27,
   "metadata": {},
   "outputs": [
    {
     "name": "stdout",
     "output_type": "stream",
     "text": [
      "-1\n"
     ]
    }
   ],
   "source": [
    "# Search starts from index 11\n",
    "print(s.find('org',11))"
   ]
  },
  {
   "cell_type": "code",
   "execution_count": 28,
   "metadata": {},
   "outputs": [
    {
     "name": "stdout",
     "output_type": "stream",
     "text": [
      "crazy*** . org is a good s***e\n"
     ]
    }
   ],
   "source": [
    "print(s.replace('it','***'))"
   ]
  },
  {
   "cell_type": "code",
   "execution_count": 29,
   "metadata": {},
   "outputs": [
    {
     "name": "stdout",
     "output_type": "stream",
     "text": [
      "crazy*** . org is a good site\n"
     ]
    }
   ],
   "source": [
    "# only replace once\n",
    "print(s.replace('it','***',1))"
   ]
  },
  {
   "cell_type": "code",
   "execution_count": 30,
   "metadata": {},
   "outputs": [
    {
     "name": "stdout",
     "output_type": "stream",
     "text": [
      "crαzyiτ . org is α good siτe\n"
     ]
    }
   ],
   "source": [
    "# Define a translate table [ASCII Index]\n",
    "table = {97:945,98:946,116:964}\n",
    "print(s.translate(table))"
   ]
  },
  {
   "cell_type": "markdown",
   "metadata": {},
   "source": [
    "**If you do not know about ASCII Index, could use `maketrans()` to get their index**"
   ]
  },
  {
   "cell_type": "code",
   "execution_count": 31,
   "metadata": {},
   "outputs": [
    {
     "data": {
      "text/plain": [
       "{97: 945, 98: 98, 116: 964}"
      ]
     },
     "execution_count": 31,
     "metadata": {},
     "output_type": "execute_result"
    }
   ],
   "source": [
    "table = str.maketrans('abt','αbτ')\n",
    "table"
   ]
  },
  {
   "cell_type": "markdown",
   "metadata": {},
   "source": [
    "### Split and Connect String\n",
    "* `split()`: Return a list of the words in the string, using sep as the delimiter string.\n",
    "* `join()`: Concatenate any number of strings."
   ]
  },
  {
   "cell_type": "code",
   "execution_count": 32,
   "metadata": {},
   "outputs": [
    {
     "data": {
      "text/plain": [
       "'crazyit . org is a good site'"
      ]
     },
     "execution_count": 32,
     "metadata": {},
     "output_type": "execute_result"
    }
   ],
   "source": [
    "s"
   ]
  },
  {
   "cell_type": "code",
   "execution_count": 33,
   "metadata": {},
   "outputs": [
    {
     "name": "stdout",
     "output_type": "stream",
     "text": [
      "['crazyit', '.', 'org', 'is', 'a', 'good', 'site']\n"
     ]
    }
   ],
   "source": [
    "print(s.split())"
   ]
  },
  {
   "cell_type": "code",
   "execution_count": 34,
   "metadata": {},
   "outputs": [
    {
     "name": "stdout",
     "output_type": "stream",
     "text": [
      "['crazyit', '.', 'org is a good site']\n"
     ]
    }
   ],
   "source": [
    "# only split first two words\n",
    "print(s.split(None,2))"
   ]
  },
  {
   "cell_type": "markdown",
   "metadata": {},
   "source": [
    "**Using '.' as the delimiter**"
   ]
  },
  {
   "cell_type": "code",
   "execution_count": 35,
   "metadata": {},
   "outputs": [
    {
     "name": "stdout",
     "output_type": "stream",
     "text": [
      "['crazyit ', ' org is a good site']\n"
     ]
    }
   ],
   "source": [
    "print(s.split('.'))"
   ]
  },
  {
   "cell_type": "code",
   "execution_count": 36,
   "metadata": {},
   "outputs": [
    {
     "name": "stdout",
     "output_type": "stream",
     "text": [
      "crazyit/./org/is/a/good/site\n"
     ]
    }
   ],
   "source": [
    "mylist = s.split()\n",
    "print('/'.join(mylist))"
   ]
  },
  {
   "cell_type": "code",
   "execution_count": 37,
   "metadata": {},
   "outputs": [
    {
     "name": "stdout",
     "output_type": "stream",
     "text": [
      "crazyit*.*org*is*a*good*site\n"
     ]
    }
   ],
   "source": [
    "print('*'.join(mylist))"
   ]
  },
  {
   "cell_type": "markdown",
   "metadata": {},
   "source": [
    "## 6. Operation\n",
    "* Assignment operator\n",
    "* Arithmetic operator\n",
    "* Bitwise operator\n",
    "* Index operator\n",
    "* Comparison operator\n",
    "* Logical Operators"
   ]
  },
  {
   "cell_type": "markdown",
   "metadata": {},
   "source": [
    "### 6.1 Assign Operator"
   ]
  },
  {
   "cell_type": "code",
   "execution_count": 38,
   "metadata": {},
   "outputs": [],
   "source": [
    "a = b = c = 20 "
   ]
  },
  {
   "cell_type": "code",
   "execution_count": 39,
   "metadata": {},
   "outputs": [
    {
     "name": "stdout",
     "output_type": "stream",
     "text": [
      "25\n"
     ]
    }
   ],
   "source": [
    "d2 = a + 5\n",
    "print(d2)"
   ]
  },
  {
   "cell_type": "markdown",
   "metadata": {},
   "source": [
    "### 6.2 Arithmetic Operator"
   ]
  },
  {
   "cell_type": "code",
   "execution_count": 40,
   "metadata": {},
   "outputs": [
    {
     "name": "stdout",
     "output_type": "stream",
     "text": [
      "8.3\n"
     ]
    }
   ],
   "source": [
    "a = 5.2\n",
    "b = 3.1 \n",
    "the_sum = a + b\n",
    "print(the_sum)"
   ]
  },
  {
   "cell_type": "code",
   "execution_count": 41,
   "metadata": {},
   "outputs": [
    {
     "name": "stdout",
     "output_type": "stream",
     "text": [
      "Hello Charlie\n"
     ]
    }
   ],
   "source": [
    "s1 = 'Hello '\n",
    "s2 = 'Charlie'\n",
    "print(s1 + s2)"
   ]
  },
  {
   "cell_type": "code",
   "execution_count": 42,
   "metadata": {},
   "outputs": [
    {
     "name": "stdout",
     "output_type": "stream",
     "text": [
      "-5.0\n",
      "-5.0\n"
     ]
    }
   ],
   "source": [
    "y = -5.0\n",
    "print(y)\n",
    "y = +y\n",
    "print(y)"
   ]
  },
  {
   "cell_type": "code",
   "execution_count": 43,
   "metadata": {},
   "outputs": [
    {
     "name": "stdout",
     "output_type": "stream",
     "text": [
      "16.12\n"
     ]
    }
   ],
   "source": [
    "e = 5.2\n",
    "f = 3.1\n",
    "multiply = e * f\n",
    "print(multiply)"
   ]
  },
  {
   "cell_type": "code",
   "execution_count": 44,
   "metadata": {},
   "outputs": [
    {
     "name": "stdout",
     "output_type": "stream",
     "text": [
      "Crazyit Crazyit Crazyit Crazyit Crazyit \n"
     ]
    }
   ],
   "source": [
    "s3 = 'Crazyit '\n",
    "print(s3 * 5)"
   ]
  },
  {
   "cell_type": "code",
   "execution_count": 45,
   "metadata": {},
   "outputs": [
    {
     "name": "stdout",
     "output_type": "stream",
     "text": [
      "19/4 get the result:  4.75\n",
      "19//4 get the result:  4\n"
     ]
    }
   ],
   "source": [
    "print(\"19/4 get the result: \", 19/4)\n",
    "print(\"19//4 get the result: \", 19//4)"
   ]
  },
  {
   "cell_type": "code",
   "execution_count": 46,
   "metadata": {},
   "outputs": [
    {
     "name": "stdout",
     "output_type": "stream",
     "text": [
      "aa/bb get the result:  1.6774193548387097\n",
      "aa//bb get the result:  1.0\n"
     ]
    }
   ],
   "source": [
    "aa = 5.2\n",
    "bb = 3.1\n",
    "\n",
    "print(\"aa/bb get the result: \", aa/bb)\n",
    "print(\"aa//bb get the result: \", aa//bb)"
   ]
  },
  {
   "cell_type": "code",
   "execution_count": 47,
   "metadata": {},
   "outputs": [
    {
     "name": "stdout",
     "output_type": "stream",
     "text": [
      "5 % 3 get  2\n",
      "5.2 % 3.1 get  2.1\n",
      "-5.2 % -3.1 get  -2.1\n",
      "5.2 % -3.1 get  -1.0\n",
      "-5.2 % 3.1 get  1.0\n"
     ]
    }
   ],
   "source": [
    "print(\"5 % 3 get \", 5 % 3)\n",
    "print(\"5.2 % 3.1 get \", 5.2 % 3.1)\n",
    "print(\"-5.2 % -3.1 get \", -5.2 % -3.1)\n",
    "print(\"5.2 % -3.1 get \", 5.2 % -3.1)\n",
    "print(\"-5.2 % 3.1 get \", -5.2 % 3.1)"
   ]
  },
  {
   "cell_type": "code",
   "execution_count": 48,
   "metadata": {},
   "outputs": [
    {
     "name": "stdout",
     "output_type": "stream",
     "text": [
      "Square of 5:  25\n",
      "Cubic of 5:  125\n",
      "Square root of 9:  3.0\n",
      "cubic root of 27:  3.0\n"
     ]
    }
   ],
   "source": [
    "print('Square of 5: ', 5**2)\n",
    "print('Cubic of 5: ', 5**3)\n",
    "print('Square root of 9: ', 9**0.5)\n",
    "print('cubic root of 27: ', 27**(1/3))"
   ]
  },
  {
   "attachments": {
    "image.png": {
     "image/png": "[encoded data removed]"
    }
   },
   "cell_type": "markdown",
   "metadata": {},
   "source": [
    "### Bitwise Operator\n",
    "![Bitwise](https://blog.eduguru.in/wp-content/uploads/2016/01/bitwise-operator-pytohn.png)\n",
    "![Example](attachment:image.png)"
   ]
  },
  {
   "cell_type": "code",
   "execution_count": 49,
   "metadata": {},
   "outputs": [
    {
     "name": "stdout",
     "output_type": "stream",
     "text": [
      "1\n",
      "13\n"
     ]
    }
   ],
   "source": [
    "print(5&9)\n",
    "print(5|9)"
   ]
  },
  {
   "cell_type": "markdown",
   "metadata": {},
   "source": [
    "### 6.4 Index"
   ]
  },
  {
   "cell_type": "code",
   "execution_count": 50,
   "metadata": {},
   "outputs": [
    {
     "name": "stdout",
     "output_type": "stream",
     "text": [
      "cf\n"
     ]
    }
   ],
   "source": [
    "a = 'abcdefghijklmn'\n",
    "print(a[2:8:3])  # step with 3"
   ]
  },
  {
   "cell_type": "code",
   "execution_count": 51,
   "metadata": {},
   "outputs": [
    {
     "name": "stdout",
     "output_type": "stream",
     "text": [
      "ceg\n"
     ]
    }
   ],
   "source": [
    "print(a[2:8:2])  # step with 2"
   ]
  },
  {
   "cell_type": "markdown",
   "metadata": {},
   "source": [
    "### 6.5 Comparison operator\n",
    "![Comparison](https://slideplayer.com/slide/6506861/22/images/3/Python+Comparison+Operators%3A.jpg)"
   ]
  },
  {
   "cell_type": "code",
   "execution_count": 52,
   "metadata": {},
   "outputs": [
    {
     "name": "stdout",
     "output_type": "stream",
     "text": [
      "5 > 4 : True\n",
      "3**4 > 90 : False\n",
      "20 >= 20 : True\n"
     ]
    }
   ],
   "source": [
    "print(\"5 > 4 :\",5>4)\n",
    "print(\"3**4 > 90 :\",3**4 > 90)\n",
    "print(\"20 >= 20 :\",20 >= 20)"
   ]
  },
  {
   "cell_type": "code",
   "execution_count": 53,
   "metadata": {},
   "outputs": [
    {
     "name": "stdout",
     "output_type": "stream",
     "text": [
      "1 == True : True\n",
      "3 == True : False\n"
     ]
    }
   ],
   "source": [
    "print('1 == True :', 1 == True)\n",
    "print('3 == True :', 3 == True)"
   ]
  },
  {
   "cell_type": "code",
   "execution_count": 54,
   "metadata": {},
   "outputs": [
    {
     "name": "stdout",
     "output_type": "stream",
     "text": [
      "time.struct_time(tm_year=2020, tm_mon=5, tm_mday=20, tm_hour=1, tm_min=28, tm_sec=10, tm_wday=2, tm_yday=141, tm_isdst=0)\n",
      "a==b : True\n",
      "a is b: False\n"
     ]
    }
   ],
   "source": [
    "import time\n",
    "a = time.gmtime()\n",
    "b = time.gmtime()\n",
    "print(a)\n",
    "print('a==b :', a==b)\n",
    "print('a is b:', a is b)"
   ]
  },
  {
   "cell_type": "markdown",
   "metadata": {},
   "source": [
    "**Could use `id()` to get the address of variables**"
   ]
  },
  {
   "cell_type": "code",
   "execution_count": 55,
   "metadata": {},
   "outputs": [
    {
     "name": "stdout",
     "output_type": "stream",
     "text": [
      "2513286515304\n",
      "2513286514440\n"
     ]
    }
   ],
   "source": [
    "print(id(a))\n",
    "print(id(b))"
   ]
  },
  {
   "cell_type": "markdown",
   "metadata": {},
   "source": [
    "### 6.6 Logical Operators\n",
    "![logical](https://media.geeksforgeeks.org/wp-content/uploads/bool.png)"
   ]
  },
  {
   "cell_type": "code",
   "execution_count": 56,
   "metadata": {},
   "outputs": [
    {
     "name": "stdout",
     "output_type": "stream",
     "text": [
      "I would buy this book!\n"
     ]
    }
   ],
   "source": [
    "book_name = 'Crazy Python'\n",
    "price = 79\n",
    "version = '1.10'\n",
    "if book_name.endswith('Python') and price < 50 or version == '1.10':\n",
    "    print('I would buy this book!')\n",
    "else:\n",
    "    print('not interested')"
   ]
  },
  {
   "cell_type": "code",
   "execution_count": 57,
   "metadata": {},
   "outputs": [
    {
     "name": "stdout",
     "output_type": "stream",
     "text": [
      "I would buy this book!\n"
     ]
    }
   ],
   "source": [
    "book_name = 'Crazy Python'\n",
    "price = 79\n",
    "version = '1.10'\n",
    "if book_name.endswith('Python') and (price < 50 or version == '1.10'):\n",
    "    print('I would buy this book!')\n",
    "else:\n",
    "    print('not interested')"
   ]
  },
  {
   "cell_type": "markdown",
   "metadata": {},
   "source": [
    "### 6.7 Ternary Operator\n",
    "![Ternary](https://www.learnbyexample.org/wp-content/uploads/python/Python-Ternary-Operator-Syntax.png)"
   ]
  },
  {
   "cell_type": "code",
   "execution_count": 58,
   "metadata": {},
   "outputs": [
    {
     "name": "stdout",
     "output_type": "stream",
     "text": [
      "a > b\n"
     ]
    }
   ],
   "source": [
    "a = 5\n",
    "b = 3\n",
    "st = \"a > b\" if a>b else \"a<b\"\n",
    "print(st)"
   ]
  },
  {
   "cell_type": "code",
   "execution_count": 59,
   "metadata": {},
   "outputs": [
    {
     "name": "stdout",
     "output_type": "stream",
     "text": [
      "crazyit\n",
      "(None, 'a>b')\n",
      "<class 'tuple'>\n"
     ]
    }
   ],
   "source": [
    "st = print(\"crazyit\"),'a>b' if a > b else 'a<b'\n",
    "print(st)\n",
    "print(type(st))"
   ]
  },
  {
   "cell_type": "code",
   "execution_count": 60,
   "metadata": {},
   "outputs": [
    {
     "name": "stdout",
     "output_type": "stream",
     "text": [
      "c = d\n"
     ]
    }
   ],
   "source": [
    "c = 5\n",
    "d = 5 \n",
    "print('c > d') if c>d else (print('c < d')) if c < d else print('c = d') "
   ]
  },
  {
   "cell_type": "markdown",
   "metadata": {},
   "source": [
    "### Precedence of Operation\n",
    "![precedence](https://study.com/cimages/multimages/16/precedence_table.png)"
   ]
  }
 ],
 "metadata": {
  "kernelspec": {
   "display_name": "TensorFlow(GPU)",
   "language": "python",
   "name": "tf-gpu"
  },
  "language_info": {
   "codemirror_mode": {
    "name": "ipython",
    "version": 3
   },
   "file_extension": ".py",
   "mimetype": "text/x-python",
   "name": "python",
   "nbconvert_exporter": "python",
   "pygments_lexer": "ipython3",
   "version": "3.7.6"
  }
 },
 "nbformat": 4,
 "nbformat_minor": 4
}
