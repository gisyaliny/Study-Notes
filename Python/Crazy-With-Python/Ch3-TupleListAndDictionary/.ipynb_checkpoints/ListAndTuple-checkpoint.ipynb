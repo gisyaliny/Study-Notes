{
 "cells": [
  {
   "cell_type": "markdown",
   "metadata": {},
   "source": [
    "# List and Tuple\n",
    "## 1. Create List and Tuple"
   ]
  },
  {
   "cell_type": "code",
   "execution_count": 1,
   "metadata": {},
   "outputs": [
    {
     "name": "stdout",
     "output_type": "stream",
     "text": [
      "['crazyit', 20, 'Python']\n"
     ]
    }
   ],
   "source": [
    "my_list = ['crazyit',20,'Python']\n",
    "print(my_list)"
   ]
  },
  {
   "cell_type": "code",
   "execution_count": 2,
   "metadata": {},
   "outputs": [
    {
     "name": "stdout",
     "output_type": "stream",
     "text": [
      "('crazyit', 20, 'Python')\n"
     ]
    }
   ],
   "source": [
    "my_tuple = ('crazyit',20,'Python')\n",
    "print(my_tuple)"
   ]
  },
  {
   "cell_type": "markdown",
   "metadata": {},
   "source": [
    "## 2. Usage of List and Tuple"
   ]
  },
  {
   "cell_type": "markdown",
   "metadata": {},
   "source": [
    "### 2.1 Using index"
   ]
  },
  {
   "cell_type": "code",
   "execution_count": 3,
   "metadata": {},
   "outputs": [
    {
     "name": "stdout",
     "output_type": "stream",
     "text": [
      "('crazyit', 20, 5.6, 'fkit', -17)\n",
      "crazyit\n",
      "20\n",
      "-17\n"
     ]
    }
   ],
   "source": [
    "a_tuple = ('crazyit',20,5.6,'fkit',-17)\n",
    "print(a_tuple)\n",
    "print(a_tuple[0])\n",
    "print(a_tuple[1])\n",
    "print(a_tuple[-1])"
   ]
  },
  {
   "cell_type": "markdown",
   "metadata": {},
   "source": [
    "### 2.2 Sublist (equal to `slice()` )"
   ]
  },
  {
   "cell_type": "code",
   "execution_count": 4,
   "metadata": {},
   "outputs": [
    {
     "data": {
      "text/plain": [
       "('crazyit', 20, 5.6, 'fkit', -17)"
      ]
     },
     "execution_count": 4,
     "metadata": {},
     "output_type": "execute_result"
    }
   ],
   "source": [
    "a_tuple"
   ]
  },
  {
   "cell_type": "code",
   "execution_count": 5,
   "metadata": {},
   "outputs": [
    {
     "name": "stdout",
     "output_type": "stream",
     "text": [
      "(20, 5.6)\n"
     ]
    }
   ],
   "source": [
    "print(a_tuple[1:3])"
   ]
  },
  {
   "cell_type": "code",
   "execution_count": 6,
   "metadata": {},
   "outputs": [
    {
     "name": "stdout",
     "output_type": "stream",
     "text": [
      "(5.6, 'fkit')\n",
      "(20, 5.6)\n"
     ]
    }
   ],
   "source": [
    "print(a_tuple[-3:-1])\n",
    "print(a_tuple[1:-2])"
   ]
  },
  {
   "cell_type": "code",
   "execution_count": 7,
   "metadata": {},
   "outputs": [
    {
     "name": "stdout",
     "output_type": "stream",
     "text": [
      "(20, 'fkit')\n"
     ]
    }
   ],
   "source": [
    "print(a_tuple[1:5:2])"
   ]
  },
  {
   "cell_type": "markdown",
   "metadata": {},
   "source": [
    "### 2.3 Addition"
   ]
  },
  {
   "cell_type": "code",
   "execution_count": 8,
   "metadata": {},
   "outputs": [
    {
     "name": "stdout",
     "output_type": "stream",
     "text": [
      "('crazyit', 20, -1.2, 127, 'crazyit', 'fkit', 3.33)\n",
      "('crazyit', 20, -1.2)\n",
      "(127, 'crazyit', 'fkit', 3.33)\n"
     ]
    }
   ],
   "source": [
    "a_tuple = ('crazyit',20,-1.2)\n",
    "b_tuple = (127,'crazyit','fkit',3.33)\n",
    "sum_tuple = a_tuple + b_tuple\n",
    "print(sum_tuple)\n",
    "print(a_tuple)\n",
    "print(b_tuple)"
   ]
  },
  {
   "cell_type": "code",
   "execution_count": 9,
   "metadata": {},
   "outputs": [
    {
     "name": "stdout",
     "output_type": "stream",
     "text": [
      "('crazyit', 20, -1.2, -20, -30)\n"
     ]
    }
   ],
   "source": [
    "print(a_tuple + (-20,-30))"
   ]
  },
  {
   "cell_type": "code",
   "execution_count": 10,
   "metadata": {},
   "outputs": [
    {
     "name": "stdout",
     "output_type": "stream",
     "text": [
      "[20, 30, 50, 100, 'a', 'b', 'c']\n",
      "[20, 30, 50, 100, 'fkit']\n"
     ]
    }
   ],
   "source": [
    "a_list = [20,30,50,100]\n",
    "b_list = ['a','b','c']\n",
    "sum_list = a_list + b_list\n",
    "print(sum_list)\n",
    "print(a_list + ['fkit'])"
   ]
  },
  {
   "cell_type": "markdown",
   "metadata": {},
   "source": [
    "### 2.4 Multiply"
   ]
  },
  {
   "cell_type": "code",
   "execution_count": 11,
   "metadata": {},
   "outputs": [
    {
     "data": {
      "text/plain": [
       "('crazyit', 20, -1.2)"
      ]
     },
     "execution_count": 11,
     "metadata": {},
     "output_type": "execute_result"
    }
   ],
   "source": [
    "a_tuple"
   ]
  },
  {
   "cell_type": "code",
   "execution_count": 12,
   "metadata": {},
   "outputs": [
    {
     "name": "stdout",
     "output_type": "stream",
     "text": [
      "('crazyit', 20, -1.2, 'crazyit', 20, -1.2, 'crazyit', 20, -1.2)\n"
     ]
    }
   ],
   "source": [
    "mul_tuple = a_tuple * 3\n",
    "print(mul_tuple)"
   ]
  },
  {
   "cell_type": "code",
   "execution_count": 13,
   "metadata": {},
   "outputs": [
    {
     "name": "stdout",
     "output_type": "stream",
     "text": [
      "[30, 'Python', 2, 30, 'Python', 2, 30, 'Python', 2]\n"
     ]
    }
   ],
   "source": [
    "a_list = [30,'Python',2]\n",
    "mul_list = a_list * 3\n",
    "print(mul_list)"
   ]
  },
  {
   "cell_type": "markdown",
   "metadata": {},
   "source": [
    "**Example for adding ending of date**"
   ]
  },
  {
   "cell_type": "code",
   "execution_count": 14,
   "metadata": {},
   "outputs": [
    {
     "name": "stdout",
     "output_type": "stream",
     "text": [
      "('st', 'nd', 'rd', 'th', 'th', 'th', 'th', 'th', 'th', 'th', 'th', 'th', 'th', 'th', 'th', 'th', 'th', 'th', 'th', 'th', 'st', 'nd', 'rd', 'th', 'th', 'th', 'th', 'th', 'th', 'th', 'st')\n"
     ]
    }
   ],
   "source": [
    "order_endings = ('st','nd','rd')\\\n",
    "    + ('th',) * 17 + ('st','nd','rd')\\\n",
    "    + ('th',) * 7 + ('st',)\n",
    "print(order_endings)"
   ]
  },
  {
   "cell_type": "code",
   "execution_count": 15,
   "metadata": {},
   "outputs": [
    {
     "name": "stdout",
     "output_type": "stream",
     "text": [
      "please enter a date(1-31)15\n",
      "15th\n"
     ]
    }
   ],
   "source": [
    "day = input(\"please enter a date(1-31)\")\n",
    "day_int = int(day)\n",
    "print(day + order_endings[day_int -1])"
   ]
  },
  {
   "cell_type": "markdown",
   "metadata": {},
   "source": [
    "### 2.5 Usage of `in`"
   ]
  },
  {
   "cell_type": "code",
   "execution_count": 16,
   "metadata": {},
   "outputs": [
    {
     "name": "stdout",
     "output_type": "stream",
     "text": [
      "True\n",
      "False\n",
      "True\n"
     ]
    }
   ],
   "source": [
    "a_tuple = ('crazyit',20,-1.2)\n",
    "print(20 in a_tuple)\n",
    "print(1.2 in a_tuple)\n",
    "print('fkit' not in a_tuple)"
   ]
  },
  {
   "cell_type": "markdown",
   "metadata": {},
   "source": [
    "### 2.6 Length, `max()` and `min()`"
   ]
  },
  {
   "cell_type": "code",
   "execution_count": 17,
   "metadata": {},
   "outputs": [
    {
     "name": "stdout",
     "output_type": "stream",
     "text": [
      "102\n",
      "-2\n",
      "6\n"
     ]
    }
   ],
   "source": [
    "a_tuple = (20,10,-2,15.2,102,50)\n",
    "print(max(a_tuple))\n",
    "print(min(a_tuple))\n",
    "print(len(a_tuple))"
   ]
  },
  {
   "cell_type": "code",
   "execution_count": 18,
   "metadata": {},
   "outputs": [
    {
     "name": "stdout",
     "output_type": "stream",
     "text": [
      "fkit\n",
      "Kotlin\n",
      "4\n"
     ]
    }
   ],
   "source": [
    "b_list = ['crazyit','fkit','Python','Kotlin']\n",
    "print(max(b_list))\n",
    "print(min(b_list))\n",
    "print(len(b_list))"
   ]
  },
  {
   "cell_type": "markdown",
   "metadata": {},
   "source": [
    "### 2.7 Sequnce Packing and Unpacking\n",
    "* When you assgin multiple value to a single variable, python would pack those values into a tuple, this called sequnce packing\n",
    "* When you assgin one sequnce to multiple variables, python would unpack the sequnce and assgin value respectively"
   ]
  },
  {
   "cell_type": "code",
   "execution_count": 19,
   "metadata": {},
   "outputs": [
    {
     "name": "stdout",
     "output_type": "stream",
     "text": [
      "(10, 20, 30)\n",
      "<class 'tuple'>\n",
      "20\n"
     ]
    }
   ],
   "source": [
    "vals = 10,20,30\n",
    "print(vals)\n",
    "print(type(vals))\n",
    "print(vals[1])"
   ]
  },
  {
   "cell_type": "code",
   "execution_count": 20,
   "metadata": {},
   "outputs": [
    {
     "data": {
      "text/plain": [
       "(1, 3, 5, 7, 9)"
      ]
     },
     "execution_count": 20,
     "metadata": {},
     "output_type": "execute_result"
    }
   ],
   "source": [
    "a_tuple = tuple(range(1,10,2))\n",
    "a_tuple"
   ]
  },
  {
   "cell_type": "code",
   "execution_count": 21,
   "metadata": {},
   "outputs": [
    {
     "name": "stdout",
     "output_type": "stream",
     "text": [
      "1 3 5 7 9\n"
     ]
    }
   ],
   "source": [
    "a,b,c,d,e = a_tuple\n",
    "print(a,b,c,d,e)"
   ]
  },
  {
   "cell_type": "code",
   "execution_count": 22,
   "metadata": {},
   "outputs": [
    {
     "name": "stdout",
     "output_type": "stream",
     "text": [
      "(10, 20, 30)\n",
      "10 20 30\n"
     ]
    }
   ],
   "source": [
    "xyz = 10,20,30\n",
    "x,y,z = xyz\n",
    "print(xyz)\n",
    "print(x,y,z)"
   ]
  },
  {
   "cell_type": "code",
   "execution_count": 23,
   "metadata": {},
   "outputs": [
    {
     "name": "stdout",
     "output_type": "stream",
     "text": [
      "20 30 10\n"
     ]
    }
   ],
   "source": [
    "x,y,z = y,z,x\n",
    "print(x,y,z)"
   ]
  },
  {
   "cell_type": "markdown",
   "metadata": {},
   "source": [
    "**Using \"\\*\" to represent the variable as a list**"
   ]
  },
  {
   "cell_type": "code",
   "execution_count": 24,
   "metadata": {},
   "outputs": [
    {
     "name": "stdout",
     "output_type": "stream",
     "text": [
      "0\n",
      "1\n",
      "[2, 3, 4, 5, 6, 7, 8, 9]\n"
     ]
    }
   ],
   "source": [
    "first,second,*rest = range(10)\n",
    "print(first)\n",
    "print(second)\n",
    "print(rest)"
   ]
  },
  {
   "cell_type": "markdown",
   "metadata": {},
   "source": [
    "## 3. Application of List and Tuple\n",
    "The element in the tuple is not changeable, but in the list could. "
   ]
  },
  {
   "cell_type": "markdown",
   "metadata": {},
   "source": [
    "### 3.1 Create List"
   ]
  },
  {
   "cell_type": "code",
   "execution_count": 25,
   "metadata": {},
   "outputs": [
    {
     "name": "stdout",
     "output_type": "stream",
     "text": [
      "['crazyit', 20, -1.2]\n"
     ]
    }
   ],
   "source": [
    "a_tuple = ('crazyit',20,-1.2)\n",
    "a_list = list(a_tuple)\n",
    "print(a_list)"
   ]
  },
  {
   "cell_type": "code",
   "execution_count": 26,
   "metadata": {},
   "outputs": [
    {
     "name": "stdout",
     "output_type": "stream",
     "text": [
      "range(1, 5)\n",
      "[1, 2, 3, 4]\n"
     ]
    }
   ],
   "source": [
    "a_range = range(1,5)\n",
    "print(a_range)\n",
    "b_list = list(a_range)\n",
    "print(b_list)"
   ]
  },
  {
   "cell_type": "code",
   "execution_count": 27,
   "metadata": {},
   "outputs": [
    {
     "name": "stdout",
     "output_type": "stream",
     "text": [
      "[4, 7, 10, 13, 16, 19]\n"
     ]
    }
   ],
   "source": [
    "c_list = list(range(4,20,3))\n",
    "print(c_list)"
   ]
  },
  {
   "cell_type": "markdown",
   "metadata": {},
   "source": [
    "**Create Tuple**"
   ]
  },
  {
   "cell_type": "code",
   "execution_count": 28,
   "metadata": {},
   "outputs": [
    {
     "name": "stdout",
     "output_type": "stream",
     "text": [
      "('crazyit', 20, -1.2)\n"
     ]
    }
   ],
   "source": [
    "a_list = ['crazyit',20,-1.2]\n",
    "a_tuple = tuple(a_list)\n",
    "print(a_tuple)"
   ]
  },
  {
   "cell_type": "code",
   "execution_count": 29,
   "metadata": {},
   "outputs": [
    {
     "data": {
      "text/plain": [
       "range(1, 5)"
      ]
     },
     "execution_count": 29,
     "metadata": {},
     "output_type": "execute_result"
    }
   ],
   "source": [
    "a_range"
   ]
  },
  {
   "cell_type": "code",
   "execution_count": 30,
   "metadata": {},
   "outputs": [
    {
     "name": "stdout",
     "output_type": "stream",
     "text": [
      "('crazyit', 20, -1.2)\n"
     ]
    }
   ],
   "source": [
    "b_tuple = tuple(a_tuple)\n",
    "print(b_tuple)"
   ]
  },
  {
   "cell_type": "code",
   "execution_count": 31,
   "metadata": {},
   "outputs": [
    {
     "name": "stdout",
     "output_type": "stream",
     "text": [
      "(4, 7, 10, 13, 16, 19)\n"
     ]
    }
   ],
   "source": [
    "c_tuple = tuple(range(4,20,3))\n",
    "print(c_tuple)"
   ]
  },
  {
   "cell_type": "markdown",
   "metadata": {},
   "source": [
    "### 3.2 Add elements to list\n",
    "* `append()`\n",
    "* `extend()`\n",
    "* `insert()`"
   ]
  },
  {
   "cell_type": "code",
   "execution_count": 32,
   "metadata": {},
   "outputs": [
    {
     "name": "stdout",
     "output_type": "stream",
     "text": [
      "['crazyit', 20, -2, 'fkit']\n"
     ]
    }
   ],
   "source": [
    "a_list = ['crazyit',20,-2]\n",
    "a_list.append('fkit')\n",
    "print(a_list)"
   ]
  },
  {
   "cell_type": "code",
   "execution_count": 33,
   "metadata": {},
   "outputs": [
    {
     "name": "stdout",
     "output_type": "stream",
     "text": [
      "['crazyit', 20, -2, 'fkit', (3.4, 5.6)]\n"
     ]
    }
   ],
   "source": [
    "a_tuple = (3.4,5.6)\n",
    "a_list.append(a_tuple)\n",
    "print(a_list)"
   ]
  },
  {
   "cell_type": "code",
   "execution_count": 34,
   "metadata": {},
   "outputs": [
    {
     "name": "stdout",
     "output_type": "stream",
     "text": [
      "['crazyit', 20, -2, 'fkit', (3.4, 5.6), ['a', 'b']]\n"
     ]
    }
   ],
   "source": [
    "a_list.append(['a','b'])\n",
    "print(a_list)"
   ]
  },
  {
   "cell_type": "code",
   "execution_count": 35,
   "metadata": {},
   "outputs": [
    {
     "name": "stdout",
     "output_type": "stream",
     "text": [
      "['a', 30, -2, 3.1]\n"
     ]
    }
   ],
   "source": [
    "b_list = ['a',30]\n",
    "b_list.extend((-2,3.1))\n",
    "print(b_list)"
   ]
  },
  {
   "cell_type": "code",
   "execution_count": 36,
   "metadata": {},
   "outputs": [
    {
     "data": {
      "text/plain": [
       "['a', 30, -2, 3.1, 'C', 'R', 'A']"
      ]
     },
     "execution_count": 36,
     "metadata": {},
     "output_type": "execute_result"
    }
   ],
   "source": [
    "b_list.extend(['C','R','A'])\n",
    "b_list"
   ]
  },
  {
   "cell_type": "code",
   "execution_count": 37,
   "metadata": {},
   "outputs": [
    {
     "data": {
      "text/plain": [
       "['a', 30, -2, 3.1, 'C', 'R', 'A', 97, 98, 99]"
      ]
     },
     "execution_count": 37,
     "metadata": {},
     "output_type": "execute_result"
    }
   ],
   "source": [
    "b_list.extend(range(97,100))\n",
    "b_list"
   ]
  },
  {
   "cell_type": "code",
   "execution_count": 38,
   "metadata": {},
   "outputs": [
    {
     "name": "stdout",
     "output_type": "stream",
     "text": [
      "[1, 2, 3, 4, 5]\n",
      "[1, 2, 3, 'CRAZY', 4, 5]\n"
     ]
    }
   ],
   "source": [
    "c_list = list(range(1,6))\n",
    "print(c_list)\n",
    "c_list.insert(3,'CRAZY')\n",
    "print(c_list)"
   ]
  },
  {
   "cell_type": "code",
   "execution_count": 39,
   "metadata": {},
   "outputs": [
    {
     "name": "stdout",
     "output_type": "stream",
     "text": [
      "[1, 2, 3, ('c', 'r', 'a', 'z', 'y'), 'CRAZY', 4, 5]\n"
     ]
    }
   ],
   "source": [
    "c_list.insert(3,tuple('crazy'))\n",
    "print(c_list)"
   ]
  },
  {
   "cell_type": "markdown",
   "metadata": {},
   "source": [
    "### 3.3 Delete elements from list\n",
    "* `del` express\n",
    "* `clear()`"
   ]
  },
  {
   "cell_type": "code",
   "execution_count": 40,
   "metadata": {},
   "outputs": [
    {
     "name": "stdout",
     "output_type": "stream",
     "text": [
      "['crazyit', 20, (3, 4), 'fkit']\n"
     ]
    }
   ],
   "source": [
    "a_list = ['crazyit',20,-2.4,(3,4),'fkit']\n",
    "del a_list[2]\n",
    "print(a_list)"
   ]
  },
  {
   "cell_type": "code",
   "execution_count": 41,
   "metadata": {},
   "outputs": [
    {
     "name": "stdout",
     "output_type": "stream",
     "text": [
      "['crazyit', 'fkit']\n"
     ]
    }
   ],
   "source": [
    "del a_list[1:3]\n",
    "print(a_list)"
   ]
  },
  {
   "cell_type": "code",
   "execution_count": 42,
   "metadata": {},
   "outputs": [
    {
     "data": {
      "text/plain": [
       "[1, 2, 3, 4, 5, 6, 7, 8, 9]"
      ]
     },
     "execution_count": 42,
     "metadata": {},
     "output_type": "execute_result"
    }
   ],
   "source": [
    "b_list = list(range(1,10))\n",
    "b_list"
   ]
  },
  {
   "cell_type": "code",
   "execution_count": 43,
   "metadata": {},
   "outputs": [
    {
     "data": {
      "text/plain": [
       "[1, 2, 4, 6, 8, 9]"
      ]
     },
     "execution_count": 43,
     "metadata": {},
     "output_type": "execute_result"
    }
   ],
   "source": [
    "del b_list[2:-2:2]\n",
    "b_list"
   ]
  },
  {
   "cell_type": "code",
   "execution_count": 44,
   "metadata": {},
   "outputs": [
    {
     "name": "stdout",
     "output_type": "stream",
     "text": [
      "crazyit\n"
     ]
    },
    {
     "ename": "NameError",
     "evalue": "name 'name' is not defined",
     "output_type": "error",
     "traceback": [
      "\u001b[1;31m---------------------------------------------------------------------------\u001b[0m",
      "\u001b[1;31mNameError\u001b[0m                                 Traceback (most recent call last)",
      "\u001b[1;32m<ipython-input-44-ed109853b639>\u001b[0m in \u001b[0;36m<module>\u001b[1;34m\u001b[0m\n\u001b[0;32m      2\u001b[0m \u001b[0mprint\u001b[0m\u001b[1;33m(\u001b[0m\u001b[0mname\u001b[0m\u001b[1;33m)\u001b[0m\u001b[1;33m\u001b[0m\u001b[1;33m\u001b[0m\u001b[0m\n\u001b[0;32m      3\u001b[0m \u001b[1;32mdel\u001b[0m \u001b[0mname\u001b[0m\u001b[1;33m\u001b[0m\u001b[1;33m\u001b[0m\u001b[0m\n\u001b[1;32m----> 4\u001b[1;33m \u001b[0mprint\u001b[0m\u001b[1;33m(\u001b[0m\u001b[0mname\u001b[0m\u001b[1;33m)\u001b[0m\u001b[1;33m\u001b[0m\u001b[1;33m\u001b[0m\u001b[0m\n\u001b[0m",
      "\u001b[1;31mNameError\u001b[0m: name 'name' is not defined"
     ]
    }
   ],
   "source": [
    "name = 'crazyit'\n",
    "print(name)\n",
    "del name\n",
    "print(name)"
   ]
  },
  {
   "cell_type": "code",
   "execution_count": 45,
   "metadata": {},
   "outputs": [
    {
     "data": {
      "text/plain": [
       "[20, 'crazyit', -4, 'crazyit', 3.4]"
      ]
     },
     "execution_count": 45,
     "metadata": {},
     "output_type": "execute_result"
    }
   ],
   "source": [
    "c_list = [20,'crazyit',30,-4,'crazyit',3.4]\n",
    "c_list.remove(30)\n",
    "c_list"
   ]
  },
  {
   "cell_type": "code",
   "execution_count": 46,
   "metadata": {},
   "outputs": [
    {
     "data": {
      "text/plain": [
       "[20, -4, 'crazyit', 3.4]"
      ]
     },
     "execution_count": 46,
     "metadata": {},
     "output_type": "execute_result"
    }
   ],
   "source": [
    "c_list.remove('crazyit')\n",
    "c_list"
   ]
  },
  {
   "cell_type": "code",
   "execution_count": 47,
   "metadata": {},
   "outputs": [
    {
     "data": {
      "text/plain": [
       "[]"
      ]
     },
     "execution_count": 47,
     "metadata": {},
     "output_type": "execute_result"
    }
   ],
   "source": [
    "c_list.clear()\n",
    "c_list"
   ]
  },
  {
   "cell_type": "markdown",
   "metadata": {},
   "source": [
    "### 3.4 Change the elements in list"
   ]
  },
  {
   "cell_type": "code",
   "execution_count": 48,
   "metadata": {},
   "outputs": [
    {
     "name": "stdout",
     "output_type": "stream",
     "text": [
      "[2, 4, 'fkit', 'crazyit', 23]\n"
     ]
    }
   ],
   "source": [
    "a_list = [2,4,-3.4,'crazyit',23]\n",
    "a_list[2] = 'fkit'\n",
    "print(a_list)"
   ]
  },
  {
   "cell_type": "code",
   "execution_count": 49,
   "metadata": {},
   "outputs": [
    {
     "name": "stdout",
     "output_type": "stream",
     "text": [
      "[2, 4, 'fkit', 9527, 23]\n"
     ]
    }
   ],
   "source": [
    "a_list[-2] = 9527\n",
    "print(a_list)"
   ]
  },
  {
   "cell_type": "code",
   "execution_count": 50,
   "metadata": {},
   "outputs": [
    {
     "name": "stdout",
     "output_type": "stream",
     "text": [
      "[1, 2, 3, 4]\n",
      "[1, 'a', 'b', 4]\n"
     ]
    }
   ],
   "source": [
    "b_list = list(range(1,5))\n",
    "print(b_list)\n",
    "b_list[1:3] = ['a','b']\n",
    "print(b_list)"
   ]
  },
  {
   "cell_type": "code",
   "execution_count": 51,
   "metadata": {},
   "outputs": [
    {
     "name": "stdout",
     "output_type": "stream",
     "text": [
      "[1, 'a', 'x', 'y', 'b', 4]\n"
     ]
    }
   ],
   "source": [
    "b_list[2:2] = ['x','y']\n",
    "print(b_list)"
   ]
  },
  {
   "cell_type": "code",
   "execution_count": 52,
   "metadata": {},
   "outputs": [
    {
     "name": "stdout",
     "output_type": "stream",
     "text": [
      "[1, 'a', 4]\n"
     ]
    }
   ],
   "source": [
    "b_list[2:5] = []\n",
    "print(b_list)"
   ]
  },
  {
   "cell_type": "code",
   "execution_count": 53,
   "metadata": {},
   "outputs": [
    {
     "name": "stdout",
     "output_type": "stream",
     "text": [
      "[1, 'C', 'h', 'a', 'r', 'l', 'i', 'e']\n"
     ]
    }
   ],
   "source": [
    "b_list[1:3] = 'Charlie'\n",
    "print(b_list)"
   ]
  },
  {
   "cell_type": "markdown",
   "metadata": {},
   "source": [
    "### 3.5 Other Popular Methods\n",
    "* `count()`: Return number of occurrences of value.\n",
    "* `index()`: Return first index of value.\n",
    "* `pop()`: Remove and return item at index (default last). **[Using list as Stack]**\n",
    "* `reverse()`: Reverse the elements in a list\n",
    "* `sort()`: Sort the elements in a list"
   ]
  },
  {
   "cell_type": "code",
   "execution_count": 54,
   "metadata": {},
   "outputs": [
    {
     "name": "stdout",
     "output_type": "stream",
     "text": [
      "2\n",
      "1\n"
     ]
    }
   ],
   "source": [
    "a_list = [2,30,'a',[5,30],30]\n",
    "print(a_list.count(30))\n",
    "print(a_list.count([5,30]))"
   ]
  },
  {
   "cell_type": "code",
   "execution_count": 55,
   "metadata": {},
   "outputs": [
    {
     "name": "stdout",
     "output_type": "stream",
     "text": [
      "1\n"
     ]
    }
   ],
   "source": [
    "a_list = [2,30,'a','b','crazyit',30]\n",
    "print(a_list.index(30))"
   ]
  },
  {
   "cell_type": "markdown",
   "metadata": {},
   "source": [
    "**Start Search from index 2**"
   ]
  },
  {
   "cell_type": "code",
   "execution_count": 56,
   "metadata": {},
   "outputs": [
    {
     "name": "stdout",
     "output_type": "stream",
     "text": [
      "5\n"
     ]
    }
   ],
   "source": [
    "print(a_list.index(30,2))"
   ]
  },
  {
   "cell_type": "markdown",
   "metadata": {},
   "source": [
    "**Start Search of index from 2 to 4**"
   ]
  },
  {
   "cell_type": "code",
   "execution_count": 57,
   "metadata": {},
   "outputs": [
    {
     "ename": "ValueError",
     "evalue": "30 is not in list",
     "output_type": "error",
     "traceback": [
      "\u001b[1;31m---------------------------------------------------------------------------\u001b[0m",
      "\u001b[1;31mValueError\u001b[0m                                Traceback (most recent call last)",
      "\u001b[1;32m<ipython-input-57-d4ac5d6d92c2>\u001b[0m in \u001b[0;36m<module>\u001b[1;34m\u001b[0m\n\u001b[1;32m----> 1\u001b[1;33m \u001b[0mprint\u001b[0m\u001b[1;33m(\u001b[0m\u001b[0ma_list\u001b[0m\u001b[1;33m.\u001b[0m\u001b[0mindex\u001b[0m\u001b[1;33m(\u001b[0m\u001b[1;36m30\u001b[0m\u001b[1;33m,\u001b[0m\u001b[1;36m2\u001b[0m\u001b[1;33m,\u001b[0m\u001b[1;36m4\u001b[0m\u001b[1;33m)\u001b[0m\u001b[1;33m)\u001b[0m\u001b[1;33m\u001b[0m\u001b[1;33m\u001b[0m\u001b[0m\n\u001b[0m",
      "\u001b[1;31mValueError\u001b[0m: 30 is not in list"
     ]
    }
   ],
   "source": [
    "print(a_list.index(30,2,4))"
   ]
  },
  {
   "cell_type": "code",
   "execution_count": 58,
   "metadata": {},
   "outputs": [
    {
     "name": "stdout",
     "output_type": "stream",
     "text": [
      "[7, 6, 5, 4, 3, 2, 1]\n"
     ]
    }
   ],
   "source": [
    "a_list = list(range(1,8))\n",
    "a_list.reverse()\n",
    "print(a_list)"
   ]
  },
  {
   "cell_type": "code",
   "execution_count": 59,
   "metadata": {},
   "outputs": [
    {
     "name": "stdout",
     "output_type": "stream",
     "text": [
      "[-30, -2, 3, 3.4, 4, 9.3, 14]\n"
     ]
    }
   ],
   "source": [
    "a_list = [3,4,-2,-30,14,9.3,3.4]\n",
    "a_list.sort()\n",
    "print(a_list)"
   ]
  },
  {
   "cell_type": "code",
   "execution_count": 60,
   "metadata": {},
   "outputs": [
    {
     "name": "stdout",
     "output_type": "stream",
     "text": [
      "['Erlang', 'Go', 'Kotlin', 'Python', 'Ruby', 'Swift']\n"
     ]
    }
   ],
   "source": [
    "b_list = ['Python','Swift','Ruby','Go','Kotlin','Erlang']\n",
    "b_list.sort()\n",
    "print(b_list)"
   ]
  },
  {
   "cell_type": "markdown",
   "metadata": {},
   "source": [
    "**Sort by their length**"
   ]
  },
  {
   "cell_type": "code",
   "execution_count": 61,
   "metadata": {},
   "outputs": [
    {
     "name": "stdout",
     "output_type": "stream",
     "text": [
      "['Go', 'Ruby', 'Swift', 'Erlang', 'Kotlin', 'Python']\n"
     ]
    }
   ],
   "source": [
    "b_list.sort(key = len)\n",
    "print(b_list)"
   ]
  },
  {
   "cell_type": "code",
   "execution_count": 62,
   "metadata": {},
   "outputs": [
    {
     "data": {
      "text/plain": [
       "['Erlang', 'Kotlin', 'Python', 'Swift', 'Ruby', 'Go']"
      ]
     },
     "execution_count": 62,
     "metadata": {},
     "output_type": "execute_result"
    }
   ],
   "source": [
    "b_list.sort(key = len, reverse= True)\n",
    "b_list"
   ]
  }
 ],
 "metadata": {
  "kernelspec": {
   "display_name": "TensorFlow(GPU)",
   "language": "python",
   "name": "tf-gpu"
  },
  "language_info": {
   "codemirror_mode": {
    "name": "ipython",
    "version": 3
   },
   "file_extension": ".py",
   "mimetype": "text/x-python",
   "name": "python",
   "nbconvert_exporter": "python",
   "pygments_lexer": "ipython3",
   "version": "3.7.6"
  }
 },
 "nbformat": 4,
 "nbformat_minor": 4
}
