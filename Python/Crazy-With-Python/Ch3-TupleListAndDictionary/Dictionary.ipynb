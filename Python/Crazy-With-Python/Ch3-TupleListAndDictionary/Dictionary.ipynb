{
 "cells": [
  {
   "cell_type": "markdown",
   "metadata": {},
   "source": [
    "## 4. Dictionary"
   ]
  },
  {
   "cell_type": "markdown",
   "metadata": {},
   "source": [
    "### 4.1 Create Dictionary\n",
    "* Key could be tuple but not list!"
   ]
  },
  {
   "cell_type": "code",
   "execution_count": 1,
   "metadata": {},
   "outputs": [
    {
     "name": "stdout",
     "output_type": "stream",
     "text": [
      "{'literature': 89, 'Math': 92, 'English': 93}\n"
     ]
    }
   ],
   "source": [
    "scores = {'literature':89, 'Math': 92, 'English': 93}\n",
    "print(scores)"
   ]
  },
  {
   "cell_type": "code",
   "execution_count": 2,
   "metadata": {},
   "outputs": [
    {
     "name": "stdout",
     "output_type": "stream",
     "text": [
      "{}\n"
     ]
    }
   ],
   "source": [
    "empty_dict = {}\n",
    "print(empty_dict)"
   ]
  },
  {
   "cell_type": "code",
   "execution_count": 3,
   "metadata": {},
   "outputs": [
    {
     "name": "stdout",
     "output_type": "stream",
     "text": [
      "{(20, 30): 'good', 30: 'bad'}\n"
     ]
    }
   ],
   "source": [
    "dict2 = {(20,30):'good',30:'bad'}\n",
    "print(dict2)"
   ]
  },
  {
   "cell_type": "markdown",
   "metadata": {},
   "source": [
    "**Transfer List to Dictionary**"
   ]
  },
  {
   "cell_type": "code",
   "execution_count": 4,
   "metadata": {},
   "outputs": [
    {
     "name": "stdout",
     "output_type": "stream",
     "text": [
      "{'celery': 1.58, 'brocoli': 1.29, 'lettuce': 2.19}\n"
     ]
    }
   ],
   "source": [
    "vegetables = [('celery',1.58),('brocoli',1.29),('lettuce',2.19)]\n",
    "dict3 = dict(vegetables)\n",
    "print(dict3)"
   ]
  },
  {
   "cell_type": "code",
   "execution_count": 5,
   "metadata": {},
   "outputs": [
    {
     "name": "stdout",
     "output_type": "stream",
     "text": [
      "{'BMW': 8.5, 'BENS': 8.3, 'AUDI': 7.9}\n"
     ]
    }
   ],
   "source": [
    "cars = [['BMW',8.5],['BENS',8.3],['AUDI',7.9]]\n",
    "dict4 = dict(cars)\n",
    "print(dict4)"
   ]
  },
  {
   "cell_type": "code",
   "execution_count": 6,
   "metadata": {},
   "outputs": [
    {
     "name": "stdout",
     "output_type": "stream",
     "text": [
      "{'spinach': 1.39, 'cabbage': 2.59}\n"
     ]
    }
   ],
   "source": [
    "dict5 = dict(spinach = 1.39, cabbage = 2.59)\n",
    "print(dict5)"
   ]
  },
  {
   "cell_type": "markdown",
   "metadata": {},
   "source": [
    "### 4.2 Basic Usage of Dictionary\n",
    "* Use key to access value\n",
    "* Use key to add key-value record\n",
    "* Use key to delete key-value record\n",
    "* Use key to modify key-value record\n",
    "* Use key to search key-value"
   ]
  },
  {
   "cell_type": "code",
   "execution_count": 7,
   "metadata": {},
   "outputs": [
    {
     "data": {
      "text/plain": [
       "{'literature': 89, 'Math': 92, 'English': 93}"
      ]
     },
     "execution_count": 7,
     "metadata": {},
     "output_type": "execute_result"
    }
   ],
   "source": [
    "scores"
   ]
  },
  {
   "cell_type": "code",
   "execution_count": 8,
   "metadata": {},
   "outputs": [
    {
     "name": "stdout",
     "output_type": "stream",
     "text": [
      "92\n"
     ]
    }
   ],
   "source": [
    "print(scores['Math'])"
   ]
  },
  {
   "cell_type": "code",
   "execution_count": 9,
   "metadata": {},
   "outputs": [
    {
     "name": "stdout",
     "output_type": "stream",
     "text": [
      "{'literature': 89, 'Math': 92, 'English': 93, 'History': 88}\n"
     ]
    }
   ],
   "source": [
    "scores['History'] = 88\n",
    "print(scores)"
   ]
  },
  {
   "cell_type": "code",
   "execution_count": 10,
   "metadata": {},
   "outputs": [
    {
     "name": "stdout",
     "output_type": "stream",
     "text": [
      "{'literature': 89, 'Math': 92, 'History': 88}\n"
     ]
    }
   ],
   "source": [
    "del scores['English']\n",
    "print(scores)"
   ]
  },
  {
   "cell_type": "code",
   "execution_count": 11,
   "metadata": {},
   "outputs": [
    {
     "name": "stdout",
     "output_type": "stream",
     "text": [
      "{'literature': 89, 'Math': 99, 'History': 88}\n"
     ]
    }
   ],
   "source": [
    "scores['Math'] = 99\n",
    "print(scores)"
   ]
  },
  {
   "cell_type": "code",
   "execution_count": 13,
   "metadata": {},
   "outputs": [
    {
     "name": "stdout",
     "output_type": "stream",
     "text": [
      "True\n",
      "True\n"
     ]
    }
   ],
   "source": [
    "print('literature' in scores)\n",
    "print('gym' not in scores)"
   ]
  },
  {
   "cell_type": "markdown",
   "metadata": {},
   "source": [
    "### 4.3 Functions of Dictionary\n",
    "**`clear()`**"
   ]
  },
  {
   "cell_type": "code",
   "execution_count": 14,
   "metadata": {},
   "outputs": [
    {
     "data": {
      "text/plain": [
       "[['BMW', 8.5], ['BENS', 8.3], ['AUDI', 7.9]]"
      ]
     },
     "execution_count": 14,
     "metadata": {},
     "output_type": "execute_result"
    }
   ],
   "source": [
    "cars"
   ]
  },
  {
   "cell_type": "code",
   "execution_count": 15,
   "metadata": {},
   "outputs": [
    {
     "name": "stdout",
     "output_type": "stream",
     "text": [
      "[]\n"
     ]
    }
   ],
   "source": [
    "cars.clear()\n",
    "print(cars)"
   ]
  },
  {
   "cell_type": "markdown",
   "metadata": {},
   "source": [
    "**`get()`: get values based on key**"
   ]
  },
  {
   "cell_type": "code",
   "execution_count": 16,
   "metadata": {},
   "outputs": [
    {
     "data": {
      "text/plain": [
       "{'literature': 89, 'Math': 99, 'History': 88}"
      ]
     },
     "execution_count": 16,
     "metadata": {},
     "output_type": "execute_result"
    }
   ],
   "source": [
    "scores"
   ]
  },
  {
   "cell_type": "code",
   "execution_count": 17,
   "metadata": {},
   "outputs": [
    {
     "data": {
      "text/plain": [
       "99"
      ]
     },
     "execution_count": 17,
     "metadata": {},
     "output_type": "execute_result"
    }
   ],
   "source": [
    "scores.get('Math')"
   ]
  },
  {
   "cell_type": "code",
   "execution_count": 19,
   "metadata": {},
   "outputs": [
    {
     "name": "stdout",
     "output_type": "stream",
     "text": [
      "None\n"
     ]
    }
   ],
   "source": [
    "print(scores.get('gym'))"
   ]
  },
  {
   "cell_type": "markdown",
   "metadata": {},
   "source": [
    "**`update()`**"
   ]
  },
  {
   "cell_type": "code",
   "execution_count": 20,
   "metadata": {},
   "outputs": [
    {
     "name": "stdout",
     "output_type": "stream",
     "text": [
      "{'literature': 89, 'Math': 99, 'History': 89, 'English': 91}\n"
     ]
    }
   ],
   "source": [
    "scores.update({'History':89, 'English':91})\n",
    "print(scores)"
   ]
  },
  {
   "cell_type": "markdown",
   "metadata": {},
   "source": [
    "**`items()`: get all key-value record**   \n",
    "**`keys()`: get all keys**   \n",
    "**`values()`: get all values**   "
   ]
  },
  {
   "cell_type": "code",
   "execution_count": 21,
   "metadata": {},
   "outputs": [
    {
     "name": "stdout",
     "output_type": "stream",
     "text": [
      "dict_items([('literature', 89), ('Math', 99), ('History', 89), ('English', 91)])\n",
      "<class 'dict_items'>\n"
     ]
    }
   ],
   "source": [
    "subjects = scores.items()\n",
    "print(subjects)\n",
    "print(type(subjects))"
   ]
  },
  {
   "cell_type": "code",
   "execution_count": 22,
   "metadata": {},
   "outputs": [
    {
     "name": "stdout",
     "output_type": "stream",
     "text": [
      "<class 'dict_keys'>\n",
      "dict_keys(['literature', 'Math', 'History', 'English'])\n"
     ]
    }
   ],
   "source": [
    "kys = scores.keys()\n",
    "print(type(kys))\n",
    "print(kys)"
   ]
  },
  {
   "cell_type": "code",
   "execution_count": 24,
   "metadata": {},
   "outputs": [
    {
     "name": "stdout",
     "output_type": "stream",
     "text": [
      "<class 'dict_values'>\n",
      "dict_values([89, 99, 89, 91])\n"
     ]
    }
   ],
   "source": [
    "vals = scores.values()\n",
    "print(type(vals))\n",
    "print(vals)"
   ]
  },
  {
   "cell_type": "markdown",
   "metadata": {},
   "source": [
    "**`pop()` and `popitem()`**"
   ]
  },
  {
   "cell_type": "code",
   "execution_count": 25,
   "metadata": {},
   "outputs": [
    {
     "data": {
      "text/plain": [
       "{'literature': 89, 'Math': 99, 'History': 89, 'English': 91}"
      ]
     },
     "execution_count": 25,
     "metadata": {},
     "output_type": "execute_result"
    }
   ],
   "source": [
    "scores"
   ]
  },
  {
   "cell_type": "code",
   "execution_count": 26,
   "metadata": {},
   "outputs": [
    {
     "name": "stdout",
     "output_type": "stream",
     "text": [
      "91\n",
      "{'literature': 89, 'Math': 99, 'History': 89}\n"
     ]
    }
   ],
   "source": [
    "print(scores.pop('English'))\n",
    "print(scores)"
   ]
  },
  {
   "cell_type": "code",
   "execution_count": 27,
   "metadata": {},
   "outputs": [
    {
     "name": "stdout",
     "output_type": "stream",
     "text": [
      "('History', 89)\n",
      "{'literature': 89, 'Math': 99}\n"
     ]
    }
   ],
   "source": [
    "print(scores.popitem())\n",
    "print(scores)"
   ]
  },
  {
   "cell_type": "code",
   "execution_count": 28,
   "metadata": {},
   "outputs": [
    {
     "name": "stdout",
     "output_type": "stream",
     "text": [
      "Math 99\n"
     ]
    }
   ],
   "source": [
    "k,v = scores.popitem()\n",
    "print(k,v)"
   ]
  },
  {
   "cell_type": "markdown",
   "metadata": {},
   "source": [
    "**`setdefault()` and `fromkeys()`**\n",
    "* `setdefault()` Return the value of given key, if given key not exist in the origin dictionary, would return the given value.\n",
    "* `fromkeys()` Create dictionary from given list, using the elements from list as keys"
   ]
  },
  {
   "cell_type": "code",
   "execution_count": 29,
   "metadata": {},
   "outputs": [
    {
     "name": "stdout",
     "output_type": "stream",
     "text": [
      "9.2\n",
      "{'BMW': 8.5, 'BENS': 8.3, 'AUDI': 7.9, 'PORSCHE': 9.2}\n"
     ]
    }
   ],
   "source": [
    "cars = {'BMW':8.5, 'BENS':8.3, 'AUDI':7.9}\n",
    "print(cars.setdefault('PORSCHE',9.2))\n",
    "print(cars)"
   ]
  },
  {
   "cell_type": "code",
   "execution_count": 30,
   "metadata": {},
   "outputs": [
    {
     "name": "stdout",
     "output_type": "stream",
     "text": [
      "8.3\n",
      "{'BMW': 8.5, 'BENS': 8.3, 'AUDI': 7.9, 'PORSCHE': 9.2}\n"
     ]
    }
   ],
   "source": [
    "print(cars.setdefault('BENS',8.2))\n",
    "print(cars)"
   ]
  },
  {
   "cell_type": "code",
   "execution_count": 31,
   "metadata": {},
   "outputs": [
    {
     "name": "stdout",
     "output_type": "stream",
     "text": [
      "{'a': None, 'b': None}\n"
     ]
    }
   ],
   "source": [
    "a_dict = dict.fromkeys(['a','b'])\n",
    "print(a_dict)"
   ]
  },
  {
   "cell_type": "code",
   "execution_count": 32,
   "metadata": {},
   "outputs": [
    {
     "name": "stdout",
     "output_type": "stream",
     "text": [
      "{13: None, 17: None}\n"
     ]
    }
   ],
   "source": [
    "b_dict = dict.fromkeys((13,17))\n",
    "print(b_dict)"
   ]
  },
  {
   "cell_type": "code",
   "execution_count": 33,
   "metadata": {},
   "outputs": [
    {
     "name": "stdout",
     "output_type": "stream",
     "text": [
      "{13: 'good', 17: 'good'}\n"
     ]
    }
   ],
   "source": [
    "c_dict = dict.fromkeys((13,17),'good')\n",
    "print(c_dict)"
   ]
  },
  {
   "cell_type": "markdown",
   "metadata": {},
   "source": [
    "### 4.4 Using dictionary to format string"
   ]
  },
  {
   "cell_type": "code",
   "execution_count": 35,
   "metadata": {},
   "outputs": [
    {
     "name": "stdout",
     "output_type": "stream",
     "text": [
      "book name is Crazy Python, price is 078.90, published by who cares\n"
     ]
    }
   ],
   "source": [
    "temp = 'book name is %(name)s, price is %(price)06.2f, published by %(publish)s'\n",
    "book = {'name':'Crazy Python','price':78.9,'publish':'who cares'}\n",
    "print(temp % book)"
   ]
  },
  {
   "cell_type": "code",
   "execution_count": 36,
   "metadata": {},
   "outputs": [
    {
     "name": "stdout",
     "output_type": "stream",
     "text": [
      "book name is Crazy JAVA, price is 088.90, published by I do not know\n"
     ]
    }
   ],
   "source": [
    "book = {'name':'Crazy JAVA','price':88.9,'publish':'I do not know'}\n",
    "print(temp % book)"
   ]
  }
 ],
 "metadata": {
  "kernelspec": {
   "display_name": "TensorFlow(GPU)",
   "language": "python",
   "name": "tf-gpu"
  },
  "language_info": {
   "codemirror_mode": {
    "name": "ipython",
    "version": 3
   },
   "file_extension": ".py",
   "mimetype": "text/x-python",
   "name": "python",
   "nbconvert_exporter": "python",
   "pygments_lexer": "ipython3",
   "version": "3.7.6"
  }
 },
 "nbformat": 4,
 "nbformat_minor": 4
}
